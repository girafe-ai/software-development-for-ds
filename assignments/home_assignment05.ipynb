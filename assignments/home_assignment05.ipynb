{
  "nbformat": 4,
  "nbformat_minor": 0,
  "metadata": {
    "colab": {
      "provenance": [],
      "collapsed_sections": []
    },
    "kernelspec": {
      "name": "python3",
      "display_name": "Python 3"
    },
    "language_info": {
      "name": "python"
    }
  },
  "cells": [
    {
      "cell_type": "markdown",
      "source": [
        "# Intro"
      ],
      "metadata": {
        "id": "lBRvonxnbJxX"
      }
    },
    {
      "cell_type": "markdown",
      "source": [
        "Fill in your name here."
      ],
      "metadata": {
        "id": "c5sYFDnJbO4D"
      }
    },
    {
      "cell_type": "code",
      "execution_count": null,
      "metadata": {
        "id": "kskUAopgbHaV"
      },
      "outputs": [],
      "source": [
        "name = ''\n",
        "if name == '':\n",
        "    raise NotImplementedError('Put your name')"
      ]
    },
    {
      "cell_type": "markdown",
      "source": [
        "We'll cover the following topics:\n",
        "- Functions and Recursion.\n",
        "- Generators.\n",
        "- Basic OOP.\n",
        "- Exceptions and Unit testing.\n",
        "- Web Scraping."
      ],
      "metadata": {
        "id": "LUmzyMalbsEB"
      }
    },
    {
      "cell_type": "markdown",
      "source": [
        "You will receive points for:\n",
        "- implementing the given tasks.\n",
        "- using good practices such as OOP in some cases, or decorators.\n",
        "- handling edge cases and exceptions.\n",
        "- comprehensive unit tests (by using any of the libraries seen. I recommend `unittest`).\n"
      ],
      "metadata": {
        "id": "ciNKbkYsqLkV"
      }
    },
    {
      "cell_type": "markdown",
      "source": [
        "# Exam"
      ],
      "metadata": {
        "id": "WrgpQYKcetf7"
      }
    },
    {
      "cell_type": "markdown",
      "source": [
        "We will need the following libraries, but of course you can add the libraries you prefer."
      ],
      "metadata": {
        "id": "cqkfkMyFs7h9"
      }
    },
    {
      "cell_type": "code",
      "source": [
        "from bs4 import BeautifulSoup\n",
        "import requests \n",
        "import unittest"
      ],
      "metadata": {
        "id": "mPvyKt04s7A0"
      },
      "execution_count": 1,
      "outputs": []
    },
    {
      "cell_type": "markdown",
      "source": [
        "## Task 1"
      ],
      "metadata": {
        "id": "dbuC4_A8fEHA"
      }
    },
    {
      "cell_type": "markdown",
      "source": [
        "The following function receives a URL, and tries to fetch all the links on it, and returns a list with all those links.\n",
        "\n",
        "1. Modify the function so that it returns the expected links.\n",
        "\n",
        "2. Be sure to do unit testing to check that the behaviour of the function is the one we expect.\n",
        "\n",
        "3. Consider edge cases (for example, what if the given URL is not a valid URL)."
      ],
      "metadata": {
        "id": "Z8vPAe-Oevw_"
      }
    },
    {
      "cell_type": "code",
      "source": [
        "def get_all_links(url: str):\n",
        "    \"\"\"\n",
        "    Get all the links in the webpage at the given URL\n",
        "\n",
        "    :param url: A string that is the URL of the webpage where we need to find the links\n",
        "    :return: A list with all the links of the given webpage\n",
        "    \"\"\"\n",
        "\n",
        "    raise NotImplementedError()"
      ],
      "metadata": {
        "id": "LDb5RAphesvc"
      },
      "execution_count": 2,
      "outputs": []
    },
    {
      "cell_type": "code",
      "source": [
        "get_all_links('http://en.wikipedia.com')[:10]"
      ],
      "metadata": {
        "colab": {
          "base_uri": "https://localhost:8080/",
          "height": 249
        },
        "id": "XfWUPk46XcjZ",
        "outputId": "7c36b952-f5b2-4d55-bb5e-1d657f098135"
      },
      "execution_count": 3,
      "outputs": [
        {
          "output_type": "error",
          "ename": "NotImplementedError",
          "evalue": "ignored",
          "traceback": [
            "\u001b[0;31m---------------------------------------------------------------------------\u001b[0m",
            "\u001b[0;31mNotImplementedError\u001b[0m                       Traceback (most recent call last)",
            "\u001b[0;32m<ipython-input-3-a059ff6b163f>\u001b[0m in \u001b[0;36m<module>\u001b[0;34m\u001b[0m\n\u001b[0;32m----> 1\u001b[0;31m \u001b[0mget_all_links\u001b[0m\u001b[0;34m(\u001b[0m\u001b[0;34m'http://en.wikipedia.com'\u001b[0m\u001b[0;34m)\u001b[0m\u001b[0;34m[\u001b[0m\u001b[0;34m:\u001b[0m\u001b[0;36m10\u001b[0m\u001b[0;34m]\u001b[0m\u001b[0;34m\u001b[0m\u001b[0;34m\u001b[0m\u001b[0m\n\u001b[0m",
            "\u001b[0;32m<ipython-input-2-f912e4d93b77>\u001b[0m in \u001b[0;36mget_all_links\u001b[0;34m(url)\u001b[0m\n\u001b[1;32m      7\u001b[0m     \"\"\"\n\u001b[1;32m      8\u001b[0m \u001b[0;34m\u001b[0m\u001b[0m\n\u001b[0;32m----> 9\u001b[0;31m     \u001b[0;32mraise\u001b[0m \u001b[0mNotImplementedError\u001b[0m\u001b[0;34m(\u001b[0m\u001b[0;34m)\u001b[0m\u001b[0;34m\u001b[0m\u001b[0;34m\u001b[0m\u001b[0m\n\u001b[0m",
            "\u001b[0;31mNotImplementedError\u001b[0m: "
          ]
        }
      ]
    },
    {
      "cell_type": "markdown",
      "source": [
        "## Task 2"
      ],
      "metadata": {
        "id": "PalS-LuKiZ7p"
      }
    },
    {
      "cell_type": "markdown",
      "source": [
        "Create a generator (`get_neighbor_pages`) that receives a URL, but instead of returning a list with all the links in that page, it should go to those links, and  **yield** their html content.\n",
        "\n",
        "Remember to add unit tests."
      ],
      "metadata": {
        "id": "I_h1F54SjBAH"
      }
    },
    {
      "cell_type": "code",
      "source": [
        "def get_neighbor_pages(url: str):\n",
        "    \"\"\"\n",
        "    Go through the links in the webpage at the given URL\n",
        "    and yield the html content of each of them\n",
        "\n",
        "    :param url: A string that is the URL of the webpage\n",
        "    \"\"\"\n",
        "\n",
        "    raise NotImplementedError()"
      ],
      "metadata": {
        "id": "ELqc47njbiE9"
      },
      "execution_count": 4,
      "outputs": []
    },
    {
      "cell_type": "markdown",
      "source": [
        "## Task 3"
      ],
      "metadata": {
        "id": "1viFWBojkbpj"
      }
    },
    {
      "cell_type": "markdown",
      "source": [
        "Create a function (`get_pages_depth()`) that receives a URL and a number `depth`, that will go through all the links the given URL, as deep as the given depth.\n",
        "\n",
        "For example, let's say the current page `page_1` has a link to a page `page_2` and a link to a page `page_3`, and the page `page_2` has a link to a page `page_4`,  and `page_4` has a link to a page `page_5`, and `page_3` has a link to a page `page_6`, and `page_6` has a link to a page `page_7`.\n",
        "\n",
        "![image.png](data:image/png;base64,iVBORw0KGgoAAAANSUhEUgAAAioAAAHNCAYAAAAwmVAUAAAABHNCSVQICAgIfAhkiAAAABl0RVh0U29mdHdhcmUAZ25vbWUtc2NyZWVuc2hvdO8Dvz4AAAAmdEVYdENyZWF0aW9uIFRpbWUAbWnpIDEyIG9jdCAyMDIyIDEyOjA3OjQ4pQf91gAAIABJREFUeJzs3Xlczdn/B/DXCCM7IzGMomxpKMu02EXIkNTQoqxZMt2GYTDxDSMKw9xqBlnHUomQJUPUyFYTsmQvlGYoSwnZx/eP+73n+zl365bq3ur9fDx+j9/nfLZ7mt/P7d37nPM+n3z48OEDCCGEEEK0UBVNd4AQQgghRBkKVAghhBCitShQIYQQQojWokCFEEIIIVqLAhVCCCGEaC0KVAghhBCitShQIYQQQojWokCFEEIIIVqLAhVCCCGEaC0KVAghhBCitShQIYQQQojWokCFEEIIIVqLAhVCCCGEaC0KVAghhBCitShQIYQQQojWokCFEEIIIVqLAhVCCCGEaC0KVAghhBCitShQIYQQQojWokCFEEIIIVqLAhVCCCGEaC0KVAghhBCitShQIYQQQojWokCFEEIIIVqLAhVCCCGEaC0KVAghhBCitShQIaQYEhMTkZmZiTdv3mi6K2UqPz8fixcvxqBBg9ChQwd4eHhg165dmu4WIaQC++TDhw8fNN0JQsqD5ORkhIeH4/jx48jLywMA6OvrY9SoUXBxcUHjxo2L9L60tDQcPnwY9erVY//Tq1ev0uh6iUhLS8P06dNx9epVuWt2dnYIDg7WQK8IIRUdBSqEqCE0NBQ///wz3r17p/B669atERISAmNj40LflZaWhjVr1mDPnj1y10xNTeHi4gJnZ+eP7nNJSktLw7fffotbt24pvcfU1BTR0dFl2CtCSGWgs2DBggWa7gQh2szb2xubN2/Gv//+q/SeJ0+eICkpCf369UOdOnWU3if9hX/q1CmF13NychAXFwcAsLS0/LiOC5w7dw6vXr0CAOjq6hb5eT8/PyQlJbF2cHAwZs6cifT0dNy7dw+ApO/NmjWDiYlJyXSaEEJAc1QIUcnb2xsxMTFq3Xvr1i389ttvSq8rykrMnTsX27dvx5QpU6Cnp8fOBwUFKcy4FMW1a9fg7++PLl26YOTIkRgwYAC6du2KSZMmIScnR+337N69m/tvMGPGDNjZ2cHQ0BDLli1D/fr12bV9+/Z9VJ8JIUQWDf0QokRgYCBCQ0OL/NzGjRvRu3dvufOTJk3CsWPHWDs4OBh2dnasff36dYwZMwaPHj0CANja2mL16tXF6DkQFRWFH374QeU9cXFxMDAwUHlPbm4uRo0ahfT0dABA7969sXHjRu4ef39/7tzZs2fRoEGDYvWbEEJkUUaFEAXOnTvHBSk1atSAs7MzRCIRatasqfLZP//8U+5cXFwcF6SsWLGCC1IAoF27dggICGDtI0eO4MmTJ0Xu++rVqwsNUgBAJBIVek9kZCQLUurUqYMZM2bI3TNixAiu/eDBAzV7SgghhaNAhRAFhEFK06ZNsX37dvj7+8PHxwfR0dH44osvlD57/PhxuXMRERHs2N3dHQ4ODgqf7du3L8zNzVn75s2bRer3mDFjsGLFCtbW19eHSCTCmTNnkJ6ejvT0dPj5+QEAUlNTcfDgQZXvO3DgADt2dnaGqamp3D3t27fnMiiq5vIQQkhRUaBCiIy4uDgcPXqUtQMCAmBmZsbarVq1wp9//snNKRHKyMjA9evXWfuvv/5i2ZQaNWpgwoQJKj+/Z8+e7FjRUmBlFi9ejJMnT7K2vr4+Nm7cCB8fH27ptIeHB9atW8f6psyhQ4e4zx80aJDSez/77DN2/Pnnn6vdZ0IIKQwFKoTIEGY/atWqBX9/f4jFYrn7VNUNuXLlCjs+fPgwOx40aJDKbAwAZGVlseNnz56p1efo6Ghs2rSJtatWrYq9e/eiXbt2Cu+3trYGAJUThYVBT/fu3blgTZY0UNHV1aX5KYSQElVV0x0gRJtkZmZyc0n69euH/fv34+bNm9DT04Orqyu71q1bN9jZ2Sn8ZS8NNgoKCuQCFUXEYjGMjIxQt25dNplWXTk5OVi1ahV37sKFCyqXId+9exeAZFn106dPUa9ePbl7Ll26VGi/pS5fvgyAsimEkJJHgQohAsIhGwDckMn8+fNha2uLRo0asXPm5uYqsxLx8fG4f/8+AKBNmzYYMGCAwvuCgoKK3efw8HBWywSQZFcKq5Vy8eJFdvzw4UO5QCUnJ4cN+9SuXVtloHL+/HkUFBQAkMxXIYSQkkRDP4QICAOV5s2b4/3799z1a9euce2+ffsqfI++vj4AyVJdqcKyEsWRk5ODHTt2sHZAQIDCCa9BQUEwMjJiQ1jnzp1j1xRlcISBTKdOndCwYUOlfRBOuJVdAVQc3t7e3OonQkjlRoEKIQLC4Q5FczLOnz/PtVu2bKlwubJ0bkh8fDw717Fjx5LqJhMeHo7s7GwAQP/+/fHNN9/I3ZOamsoCFGmJe2GV2Vq1ask9IwxkOnXqpPTz79+/j7179wIA9PT0FNaPKYqAgADExMRg3bp1MDIy4ubrEEIqJwpUCBFISUlhxy1btkT//v256w8fPpR7RlG2wdjYGDdv3mRDMjo6Ovjyyy8VfqZ0g0NFlK0skhIuL540aZLCe8LDw9lxRkYGoqKiuABAUaAirJ771VdfKf38DRs24OnTpwCAwYMHq+xrYdLS0rB582buXGHLpwkhFR8FKoT8T0ZGBhc0tGrVCp07d+buUSdQMTExQe3atblhn44dO3JzW4SEk3dlNW/eXOm1K1eusGJs3bp1Q5cuXeTuSUtLw65du7hzUVFRXFtRoJKWlgZAEmBJVwjJio2N5VYa9enTR2lf1REdHY23b99y55YtW4YXL1581HsJIeUbBSqE/M+dO3e4dtu2bfHpp59ywYqi+RyZmZlc++uvvwbADyMpy6YA/DwWWc2aNVN6TTh8oyyYiIqKktvxWfgcALmhq4KCApZx6dq1K3R0dOTem5WVxa00cnR0/KhhnzNnzmDDhg0KrxVlXyJCSMVDgQoh/5Obm8u127ZtC0CSrZCS/aW5f/9+LgvTsWNHTJw4EYB6gcqLFy+U7qQMqM6oCIvSCYvESeXm5qq1saFsoCLNpgCSFT+y3r59izlz5uDGjRvsHk9Pz0I/R5k3b95gwYIFeP36tcL+SOfgEEIqJwpUCPkfYXE14XJdYUZFduhHOFkWADw9PaGjo4PXr1+zX+SA8om0+/fvx99//63wHj09PXz66adq9b1p06Zy544ePapwqErI0dFRLmMifEZ2WOjq1avw9vbGmTNn2DlPT0+0bt1arX4qMnXqVC44kmakpKg2CyGVGwUqhEAyoVVaCwQA6taty46Fq17evn3LhojEYjFbRQNIJrNKNxoUZlMMDAxgbGys8HOFS3tlsyKqsimymjRpIndOmHFRRnZjRICf3CvMqGzatAlubm6IjY1l50xMTFgGqTiWLFnCbeIYGBiI27dvc/co+tkIIZUHBSqk0ouJiUGXLl24oEMYqOjp6cHExIS1z5w5gzFjxnBF2kaOHInZs2eztjrDPnFxcSwz0bhxY1hZWXHXpYXi1CG7EWJqaqrKQMXPzw9btmxROAE2Pz+fHUszKj/99BMWL17MXatatSrmzp2LGjVqqN1PobNnz3LzUjw8PODk5ITnz5+zc82bN0f16tWL9X5CSMVAlWlJpXfo0CEA/E7Fd+7cwTfffIN27drh008/haGhIavUOn/+fO55JycnLF26lDt34cIFdqxsjxzhnkKDBw+WG6Z58OABcnJyuOq4Qo6Ojmxi7IULF7jJrCtXrmTHVlZW3FCN9POULX0WBiMA4OrqKjcBFwD8/f2VTuItzPv37zFq1CjW7tatG9vVWRioKMtEEUIqD8qokEpvwIABbOKsVEFBAc6fP4+wsDBs2rRJYZn8Nm3aQCwWIzAwUO6asDCchYWF3PUjR45wy5KHDBmicHVLamqq0n4PHz6cDQ8FBQVBLBYjJycH3t7eLMOio6ODn376Se5ZVYXUhJVuw8LCFAYpc+bMgZOTk9J3qPL48WO0adOGtWvWrMkFbcJA5WPmvhBCKgYKVEilN2zYMMTExOD7779X6/727dvDz88P4eHhchM/AclqmwcPHgCQBDPCYSNAspxZmIHp1asXunTpwv3ylpLWSVFER0eHK1kfFBQEKysrLqgKDAxEy5Yt5SbbqgpUhPNWFNUw2bp1a7FX+aSnp8sVkBNmnwAKVAghPApUCPkfYeE2CwsLXLp0Cdu3b8fx48eRnp6OFi1aAABu3LiBIUOGoH79+grfI5wM2r17d7nrS5cu5WqvSIOdzp07QyQSsX2CAMgN2cjy8fGBSCRSeE0kEsHBwQGApMqukKpAZd68eQp/NkdHR5w7d67Ywz0pKSmwtbWVOydcdfTy5Uuu7kurVq2K9VmEkIqD5qgQ8j+yFWZr1aoFS0tL1jYwMEBmZib+/fdf3LhxQ+kvbGGgIluC39vbG0eOHGFtJycnODo6ApCssPHx8UHVqlXZHJPjx48jIyMDBgYGSvvt4+MDQ0NDnDp1Ck+fPkXz5s0xfPhwNonXz88P1apV454pbA+d3r17s8nFpqamcHFxgbOzs8pnVImPj5dbHXTy5Elu0jIgn8GhpcmEEApUCPkfZSXupQwMDHDixAkAUBmo/PPPP3LnTp8+jd9//51biWNubo558+bJ3Tto0CBuMmxYWBjmzp2rsm/29vawt7eXO3/w4EFs27ZN7nxhgYowMKpVq9ZHBSmhoaFy83gOHz6ssPaLcNhHR0eHyy4RQionGvoh5H+EgYpslVoAMDIyYsfCYm6qJCUlYezYsXB3d+eCFH19fSxYsAB16tRR+DnC4Zz169cjLi5Orc8TysnJwbJlyxRek26WqIyTkxMrepeamlrsXYyNjIzkgpRdu3YpXc0jzKhQNoUQAlCgQggjDFQUTWJt3749O1YVqAwdOhQNGjQAIJngKs3CCAUGBsLU1FTpO3x8fLjVQp6enli3bp3qH0DGihUrWIChq6vLXSss8GjWrBlb1fPixQv88MMPRfpsKRsbG669d+9emJubK71fWB2YAhVCCECBCiFMzZo1WYDx/v173L17l7veoUMHdqwqUGnVqhUWLVqk8NrQoUMRFRWlcG8eWWFhYVw7ICAAYrFY5UogqdjYWG6X5J9//pnL3rx//56tTFJGWF4/KSkJgwYNKvIGgc7OztDX10fdunWxfv16lZszAhScEELkffLhw4cPmu4EIdpi5MiROHfuHADJ3ArZjED37t3ZL/iDBw+iXbt2St+VlZWFpKQkPHnyBI0aNYK+vn6xVsxMnTqVm4ALSOa3zJgxQ+n7PDw82GaH33//Pby8vDBs2DBcuXKF3RMREcFtuKiIWCzmKvC2bt0agwcPhoWFBfT19dG4cWO8fPkS165dw/Xr15UuW37x4oXcvkGKvHnzhmWuLCws5II1QkjlQ5NpCRFo1aoVC1Ru374tF6i0bNmSBSrXrl1TGag0b968SPv1KLN69WosX74ca9asYedSUlIUTtoFJMMr0iDFxsYGXl5eACQTZIWBSlZWVqGBio+PDz755BOIxWIAwK1bt3Dr1i2l9zdr1kzh/kHqBCkAUL16dZiZmeHChQu4du0aXr58KTdsRQipXGjohxABYd0O4Y6+UsJ6JMKS+6Vt1qxZ2LRpE1dgrmbNmgrv3bp1KzsWrtaRHXZRd4KsSCTChg0blO4ALfTy5Uu13qmK9HPy8/O56r2EkMqJMiqECAgDFUVzQYSBiuwuv6WtV69e6NWrF8RiMXbs2KEwc7Fjxw5W6dXGxgb9+vVj12SLpxVlJU+fPn3Qp08fHD58GMeOHUNSUhL3fLt27dC+fXul+xIVxYQJE2BqagpdXV2FPyMhpHKhQIUQAeEvc0WBiKGhocrrZUW4oZ/Qrl272LFs7ZOPCVSkBg4ciIEDBxb5uaIoqSEzQkjFQEM/hAgIf5k/ffoUjx494q5rMqNSmAMHDrDNEGWzKUDJBCqalpaWxhWFI4RUfBSoECJDOMFUdp6K7J452hSsCLMpyrIewmClvAUqUVFRGDhwIDp16oTJkyezSc+EkIqNAhVCZHTt2pUdS1fPCGljViUhIYErLNejRw+F98lmVV6/fl2q/SpJwqJzR48exciRI4tcBI8QUv5QoEKIDGFG5eTJk3LXtTFQSUlJYcfSGieKlOdARdEu0QEBAZg5c6bcEB0hpOKgQIUQGcJA5dKlS3j69Cl3XVsm1AqdPXuWHauqelueAxUfHx+FwcqePXswZswYHDx4UAO9IoSUNgpUCJFRs2ZNrly+bFZF2zIqz58/x+nTp1nb1tZW6b3lOVABlAcr169fh0gkwvfff6+yIB0hpPyhQIUQBbp06cKOk5KSuGvaFqgIsykNGjTgdnmWVd4DFUASrPj7+yvc1HHv3r0YOXIk1q5dq4GeEUJKAwUqhCggHP6RLvmVEgYqubm5yM3NLbN+KSLMphgbG6u8V7rpolR5DFQASY2Y6OhohQFLfn4+li1bhlGjRiEuLk5DPSSElBQKVAhRQBioXLt2jatS26RJE1SvXp21NZ1VuXjxIjtWlU1RpLwGKlKqApazZ8/C09MT8+bNw7179zTUQ0LIx6JAhRAF9PT0YGBgwNqyWRXhqhpNByqXLl1ix4VlVGSV90BFSlXAEh4ejlGjRuH333/XUO8IIR+DAhVClBBmVWTnqTRp0oQdZ2ZmllmfZF27dg1v3rxh7aIGKiWxN482URawZGdnY9GiRRg3bhz++usvDfaQEFJUFKgQokT37t3Z8YkTJ1BQUMDawozK48ePy7RfQsJhH0B+smxhKlqgIqUsYElISICLiwuWLVuG/Px8DfaQEKIuClRIpXb16lUEBgZiypQpWL58OXfNysqKHT969Iir/CrMqDx58qT0O6rEnTt32HHVqlXRrFkzlfe/ePGCHevq6qJ27dql1jdtIA1Y5s+fz00kXrt2LZydnbFv3z4N9o4Qog4KVEiltWnTJri5uSE0NBSxsbEICwvjruvp6XHl9JUFKpqsipqdnc2OZVf0KPLgwQN2rKenVyp90kZjx45FWFgY7Ozs2LkbN25g+vTpmDFjBtVeIUSLUaBCKp2rV69iypQpWLx4MZf+79Wrl9y9lpaW7PjkyZP4999/AWjP0E9OTg47rl+/fqH3CwObijrso0ybNm0QHByMxYsXcz97dHQ0Ro0aRfsGEaKlKFAhlYo0ixIbG8ud79ixI7y9veXuFxZ+u3fvHv78808A2jP08zGBSmXKqAi5uLggIiICDg4O7NzTp08REBAAV1dXJCQkaLB3hBBZFKiQSkFZFgUABg0ahM2bNytcMdO9e3c0b96ctXfu3AmAz6g8f/5cY8t8ixqoVNahH1kGBgZYsWIFli9fji+++IKdT0pKwrhx47Bo0SI8fPhQgz0khEhRoEIqPGVZlLp162LevHn49ddfUa9ePYXP6ujocKt/jhw5gjNnznAZFUBzwz9v375lx+rMUREusxZW2K2sRowYgYiICDg7O3Pnf//9d4waNYoFpoQQzaFAhVRYqrIoTk5O2L59O8aNG1foe2R3I96xYwd0dHSgq6vLzmkqUKlVqxY7Liyj8u7dOyQnJ7O2ojk5lVGTJk3g7++PoKAgLquWkZGBOXPmYNq0aUhNTdVgDwmp3ChQIRWSsizK4MGDsX37dgQGBsLExEStd/Xs2ZPLVuzfvx/nz59H06ZN2TlNzVOpU6eO2vfGx8fj1atXAAATExMYGhqWUq/KpyFDhiA8PBweHh7c+T/++AOjRo1CSEgI3r17p6HeEVJ5UaBCKpSrV69i8uTJclmUnj17IjQ0FCEhIdxKHnXUrl0bQ4YM4c5FRkZqxcofYUalsM0Rz507x46L+t+gsmjYsCH8/Pywdu1amJmZsfOvXr3CqlWr4OzsjKNHj2qwh4RUPhSokApjw4YNcHFx4X6RmJubY+XKldi8eTNsbGyK/e5x48ZxWZWdO3dyGZXyEKgkJiay44/5b1EZ9O/fHzt27MB3332HGjVqsPMpKSmYPHky5syZw21USQgpPRSokHLv8uXL8PT0xJIlS/D8+XMA/58ou2vXLtjb23/0ZxgaGsrNZ9m9ezc7FpbXL0vCjRNVBSoHDx7E5cuXAQAWFhaUUVFD1apV4e3tjYiICAwaNIi7tnPnTowcORJr165ltXUIIaWDAhVSrq1btw6urq6Ii4tj5wYMGKD2RNmiGDduHNq0aVOi7/xYrVu3ZseqApU9e/awY2F1VlK4L7/8Er/++isCAgK4wDAvLw/Lli3DyJEjceTIEQ32kGiL169fIz09HdevX9d0VyoUClRIuXThwgWMHz8eAQEBLJshzaKsWbNG7YmyRVGzZk1MmjRJ4TVNDaUIJ8QqC1QSExMRHx8PQDIHgwKV4vnmm2+wY8cOjBkzhjufkpKCqVOnYtasWVSKv5KKjo6Gl5cXTExMYGtriyFDhsDa2hpr1qzRdNcqBApUSLmzZs0auLq64vjx4+xcaWVRZDk4OEAkEsmdF85jKEvqDP1ER0ezYzs7OzRs2LDU+1VR6enp4T//+Q82bdoECwsL7tru3bsxcuRI/Pbbb7Q6qJLIzMyESCTCjBkzcPjwYe5adnY2li9fzmUzSfF88uHDhw+a7gQh6jh//jyCgoK4zQHr1q0LkUhU6gGKrBMnTsDLywsFBQUwNTXlgoGy9OrVK/Tu3ZttjLhs2TI4Ojqy68nJyVwxs+joaJiampZ5Pyuq0NBQrFmzBk+fPuXOd+rUCZ6enhg8eLCGekZK2+nTpzFv3jxkZGSwc61bt2b/Nw8KCmLn/vjjD430saKgQIWUC7/++iuCgoK4v1QHDBgAkUhUKsM86rhx4wZyc3M1PjHV398fGzduBAAMHToUv/zyC7s2bdo09iXp7OwMf39/jfSxIrt58ybWrFmjMFgdPnw4PD090a5dOw30jJSWjIwM9OvXjzvXpUsXREZGApBMru/fvz/bW+vMmTOVbhPQkkRDP0SrJScnw93dHStXrmRBSmnPRVFX27ZtNR6kAJJfhtWrVwcgKUZ34MAB5OXlQSwWsyClZs2acHV11WQ3K6w2bdpg5cqVWLFiBVq0aMFd27t3L0aOHImQkBC8efNGQz0kJU047AwAU6ZMYUEKIPn3Zm5uztp///13mfWtIqqq6Q4QokxwcDCCgoK45Z+azqJoow4dOmD8+PFs4p6Pj4/cPb6+vujQoUNZd61ScXBwgLW1NYKCghAREcHOv3jxAqtWrUJsbCwmTZokVzywvLh8+TKys7Px9OlT5OfnIz8/Hz169OB2GK8shPPBAgMD4eTkJHePcLPLyrwBaEmgoR+idZKSkiAWi7kN9DQ1F6U88fb2RkxMjNz54OBgWulTxmJiYhAUFKRwFdDQoUMxadKkchNsnzp1Crt378bevXsVXtfX10f37t0xbty4cvMzlYSMjAzo6uoqHdKZMmUK28Lj+vXrqFatWll2r0KhQIVoleDgYIjFYgj/35KyKOoTi8XYsWMHPvvsM1hYWGDKlClo1KiRprtVKeXm5iI4OBi///673DVdXV14enpi6tSpbNjuY2VnZ+POnTvIyMjAgwcPlN7XoEEDWFtbcxswKqMs+FWkadOmWL58OaysrNTuc2pqKsLDw7kMVNeuXWFrawtnZ2eu8nJhduzYwf3choaG6Nixo0Z2Cc/MzIS9vT3y8/NhY2OD0NDQMu9DRUKBCtEKZ8+exS+//IIzZ86wc5RFIRXB0aNHERwcrHAH5k6dOmHKlCmwtbUt8nsTEhKQkpKCCxcu4Pz586wqs7pat26NXr16wdbWFl27dpW7/uOPP2LHjh1y56W1eBo2bIgrV67g2LFj7Fq1atUQEhKC/v37F/r5MTEx8Pb2Vnq9U6dOmDlzJqytrVW+5/Dhw/j999+5DKzQ119/DW9vb7UCs5IiEolw8OBBAMDKlStLpDp2ZUaBCtE4bVzRQ0hJKigoQHBwsNK/rJ2dnTF58mS5ybiKxMXFISIiggsQPtbEiRMxd+5c1l62bBnWrl3L3TNixAgMHDhQLghZv349li5dytrC1S/KREVF4YcffuDO1atXD3p6evjss8+4oEPV0OW6desQEBCg+oeDJCgLCQkpk2Dl559/xm+//QZAkmU6cOAA6tevX+qfW5FRoEI0JiUlBb/88gtOnjzJzlEWhVRkCQkJCAkJ4XayltLX18fUqVPh7u6u9HmxWMzqc6jSunVrtG7dWu4X8/Pnz5Gbm4vHjx/jzJkzePv2Lbvm6OiIZcuWYd++fZg+fTr3nEgkUjhJW+rAgQPc9dmzZyut4rxhwwYsWbKEtW1sbODs7Mwt942NjUVgYCDu3LkDQHGwsmvXLsyePZs7Z21tDX19fTRq1Ag5OTk4fvw48vLyAEh2UN+8ebPSn6EkLFy4EFu2bGFtPz8/eHh4lOpnVgYUqBCNWLNmDcRiMbdkk7IopDJ4//49goODERwcrPB6nz59MHXqVLnhGFVBirm5OczNzdGzZ0/06tVLrX6kpaUhOjqa/fUPAG5ubjh79ixu3LjBznl6emLOnDkq3/X27Vt07dqVDT916NAB+/btk7vv4MGDXGVnOzs7pf8dEhMT4ebmBkAyr2bnzp1svsnVq1cxdOhQdu/nn38OLy8vuLi4yP2M3377LZvUfPjw4VLLqsgGKT169FA4P4kUnc6CBQsWaLoTpPK4ePEi5s6di/DwcLx//x6AJIsya9YszJ8/n5bxkQqvSpUqsLS0RPfu3fHo0SPcvXuXu3737l3s2rULVapU4cr0BwUFcfU49PT0MGvWLCxZsgTjx49Hr169uC0VCtOwYUNYW1ujWbNmOHr0KADJEuTHjx+ze2xsbBAYGFjou3R0dPDXX3+xKq15eXmYMmUKqlT5f6munJwcTJ8+Hfn5+QAkGQ5Vk0ybN28OQLIK8NWrV3j9+jXbU2vt2rW4cOECAKBRo0bYuHEj+vbtq/BnvHXrFi5dugRAsnO4cCPPkjJmzBjs37+ftRs1aoSAgADo6+uX+GdVRlTwjZSZdes926SHAAAgAElEQVTWwc3NDQkJCexcWe3RQ4i26dq1KzZs2IAFCxYo/IX2yy+/wMPDg/1CHjZsGLvm4OCAHTt2wMPDA02aNPmofjg5OWHmzJly55s1awZfX1+13yNc7fP27Vu5ACw8PBz37t0DIPlFXliWBpD8nDVr1gQgWdWTkJCArKwsREVFsXsCAgJUVv4VDm+VxqaRPXr04IavAWDRokX48ssvS/yzKisq+EZKXWpqKn755Re2gy8g+aLy8vKS24mWkMrG3d0dvXv3xtq1a7lluoCkhklycjKmT5+OSZMmoWPHjsjPzy/xisg9evTAihUruHNeXl5FytC0atWKaz969IgNs+Tk5HAriGbMmKHWtgItWrTA8OHDERYWBkDyx07Xrl1ZVsbBwUFhJkXo2rVr7FjdYTF1PHz4EP3795dbbRUQEICBAweW2OcQyqiQUrZhwwa4urpyQYqDgwMiIiIoSCHkf1q0aAF/f3+sXr0anTp14q69efMGgYGBmDhxImrUqFEq2zbI1toxMjLiNrNUh2ygIhQeHs72vbG2tsaoUaMKfZ80AOjevTs7d/r0aa6uS2HLfv/880827KOvr8+Vtf8Y+fn5GD9+vFyQ4uvri2+++aZEPoP8H2VUSKm4evUqxGIxG/sGJCsRpk2bxk2CI4T8n62tLfr06YPVq1djy5YtbMUKAMTHxyM5ORlz585lv/RVrcQpirNnz3Jt6fyQolAVqFy/fp0dq/sHysaNGyESidClSxdUq1aNDeGkp6ezPvbs2VPlO4RBTWGZl6IICgrC1atXuXMikQjjx48vsc8g/0cZFQ1avHgxhg4dCiMjIxgZGcHa2hpisVjT3fpo4eHhcHNz44KUiRMnIiIigoIUQgpRvXp1+Pj4ICoqSm5p6/Pnz+Hr66vWEuWi+PPPP7n2q1evivwO4f43sqTzbJo0aaJWMbi0tDR2rKenx+0nJF2oWtjqndTUVG4ui+yKoI8hOyfFx8cH5ubmLIAkJYsyKhpib28vV6kyOzsbQUFBSEpKYmOy5cm7d++wZMkSbkmehYUFvLy80KNHDw32jJDyx9DQEH5+fhg2bBg2b96MAwcOcNfNzMxK7LNu3rzJtYszRCIbqDRs2BCApJx8Tk4OAHC1UlSJiYnhApGuXbsiMTGRu6devXoq3xEeHs6OnZ2dYWpqqtZnq0M6KVhK+Admo0aN4ODggJ49e3LDVqT4KFApY9evX4ebmxuX0pWVlJQEe3t7REdHl2HPPk5aWhoWLlyI06dPAwBq1aoFLy8vTJkyRcM9I6R8k9ZIGTVqFLKzs5GZmQkbGxuYmppiy5YtSE5OxoQJEz4qcPnnn3+4tnBZtLpkAxVpNVbheXX3nYqJicGtW7fQokULmJqaKtyhWTqhVpElS5awicm1atVi9VhKSqdOnZSW7H/06BHWrVuHdevWwczMDJMmTaLJtR+Jhn7K2MqVK7kgZe7cuUhPT8f69evx+eefs/OpqanYtWuXJrpYZNKiStIgpWnTpoiIiKAghZASZG1tDQcHB/j4+MDU1BRisRgLFy5ETEwMfHx88OLFi2K998WLF9wvfQsLi2KtjpHOHZGSZlSk/1tdkyZNYs9IK9j26tUL7du35+4T1nuRevHiBWbOnIkNGzawc9OmTSvxIpJhYWEIDAwsNGNy4cIFeHl54fvvvy/Rz69sKKNShuLi4rj9OZYuXYqRI0cCkEz0mjdvHry8vNj1ffv2wcnJqcz7WRSylR91dXWxbNky/Pvvv6wEdo0aNdCxY0dYWFigQ4cOGu4xIRXDZ599xo6zsrJw+fLlYq0I2r9/P/7991/WHj58eLH6I5xc2qdPH1StKvn1Itzn5sqVKyrfId3DSJrRSUpKwrFjx2BjY4MBAwZwS41l90U6ffo0VqxYgYsXL7JzVlZWmDx5crF+nsI4OTnByckJb968wYMHD7isVFpaGmJiYljWZe/evRgyZIjaQ1+ER4FKGRLWSOjbty8LUqQGDhyIjh07suV0p06dQmZmploblWmKWCzmiigtWLAAycnJcpP9pFUbC9szpDgSExPRqlUrNG7cuETfS4g2ky0o9uDBg2K9Rzj3pVWrVnLfS+qSfm8B4Jbo1qlTB02bNsX9+/cV7iAtde3aNaxYsQL9+/fHs2fP2HlpoOLj44OMjAw2JC6cHLt69Wq5OjAtWrTAvHnzivWzFEX16tXRokUL7nva0tISo0eP5rY92LNnDwUqxURDP2UkISGBy6ZMnDhR4X19+vTh2sJlfYXJzs5GYmKi3KSz0vL06VNu+Z+dnR3+/vtvlSsSgoKC5IpaFde6devQv39/uLm5wcrKCtOmTcPr169L5N2EaLtOnTrB2tqatYsTqERGRuLMmTOsrWqJsSJ79uyBq6srjIyMuEzGoEGDuPuk33fZ2dnw9vaWe09aWhqmT5+O3NxcuSrVx44dY4GLogJ03377rVyQoqenh1WrVqlVVK40TZgwgR0rGqoi6qFApYwIl7ONGTNGaYq2d+/eXFvVXyBS586dw+TJk2FtbQ03Nze4ubnB1dWVWx6sjuTkZCxcuBBjxoxBjx49YG5ujilTpnDBiJDszHc3NzduvwsPDw+kp6dzm5AB+Oi5N2/fvoWrqysCAgLY7qoA8Mcff8DExKRIwR0h5Zlwqe+pU6eK9GxaWhrmzp3LnRNuEqrK69ev8dNPP2HmzJlyk0oNDAxw+/Zt7tzAgQNRrVo1AJKJsv3798fSpUuRmJgIPz8/uLi44NatW/jPf/4DS0tLGBoasmcfPXrE5r8JpaamYvTo0Th06BB3vnbt2li1alWJrooqrvPnz2u6CxUCBSpl5PDhwwAkM9A9PT2V3mdmZsb9A5MtxCQrMTERI0eOlAtKkpKSMGvWLLlgQhmxWAxnZ2ds2bIFJ0+exP3795Gfn4/Y2Fh4e3srrO9Sp04drn358mUWOJibm8PPzw+ApMaAg4MDuy8lJUXlqidVLl68iHbt2rEvR2dnZ7kVCmPGjCn2xEJCyhPZqq3q/rt6/vw5txJFmnlISEgo9I+jCxcuwMPDA5s3b1Z4PSMjAyKRCE+ePGHnmjZtitmzZ7P2nTt3sH79eri5uWHbtm149+4d5s2bx4rBSXdJlpLObRFO8t2/fz+XDQIkmyOuWrWK23dIk1JSUtixMPgiRUOBShk4d+4csrKyAEjGlZs2baryfuE/xsLShUuXLgUgGY9dvXo1fH19UaNGDQCS5Xv+/v6F9q9r166FFpAKCgrCzp07uXOyadgTJ06wY3d3d+6a7NiscDxbXQ8fPsSIESNYe8mSJfD390dYWBiXYn306JFcKpiQisjY2BjdunVjbeHwsjIJCQlcmf4RI0Zg8eLFrP3rr78qfTY6OhoTJkzA2bNn0aRJE8ydOxf79u2TW9lz7do12Nrash3SAWDcuHHYtm0bunbtylY4Wltb4/vvv+c2Jr137x63LxDw/+8Lc3NztoGjbEBlZGSEkJAQrZkHkpiYyH2v0k7KxUeBShk4cuQIO1ZnR03hUrqHDx8qvS8iIoL9Y508eTJsbW0xfvx4REdHs2AnNjYWBw8eVPqOOXPmsDoHZmZm2LFjB+Lj43Ht2jWsW7eO2xJ927Ztcs8LsxnS1HPPnj3l9uCQHdKSBm7qev36NWbMmMHa7u7u3H4hP/74I9eX48ePF+n9hJRXwmKKwu8aRWJiYrg5IK6urli+fDnMzc1hZGTE3jFp0iTExcWx+9LS0iAWizFjxgzk5eXB1tYW4eHhmDhxIkJDQ7nsSefOnQFI6qfIDr9YWVlhx44dOHHiBNLT07F161Z4eXlx33mRkZHckC7AZ5YVLZ12cHBAZGQkbG1tVf78ZaWgoAALFixgbQMDA9rb7CNQoFIGbty4wY4VFS6SJfyF+/TpU6X3SSsvmpqachuIGRsbY+7cuWx7dGXDRwkJCSxLMmDAAGzatAldu3ZFixYtUL16dfTr1w8hISEsWElNTZX7IuzYsaPce2WzKYBkyEv4c6kq1qTI/Pnz2Th1ixYt8N1336m8PyMjo0jvJ6S8EgYqR48eVTr8Exoayk1k9fT0xE8//cTawn1qjh07Bk9PT7a9x8CBA1l2QCQSYfXq1WjRogVOnz7NrRpq0qQJdu7cCR0dHQCSX9hF2aTvypUr2L59u9z5ly9fsuGfYcOGcdfMzc3h4eHBLYMuaSdOnEBUVJTS+XqyRowYwa2GHDt2bKn2r6KjQKUMCAMVdSo+SveyUEWYTWnTpo3c9TZt2mDs2LEAlAcqwsl3Y8eORd26deXuMTY25sayhXUMAElGZuXKldzPJbv7q5QwOyMsbqcO4V9Y3333Hf2jJ+R/zMzMuGJostnEnJwc/PjjjwgMDGTnRCIR5syZw93n7OzMDaHKkg4vC8sLhISEcPdI57oIJ8yfP38e8+fPV+tn2bFjB/vjTHb3ZmmZf2tra24PpJSUFDg4OGD16tVqfUZx7N+/Hz/88AO8vb1Vfs7du3fRrVs3Lkixs7OT27OJFA0FKqUsNzeX7XNhYmKiMBiQpWq4R0o4C17ZTqfSJYJXr17lNvmSkg4JWVhYqCwUNWTIEHasaG6Jvb09K3ZkZGSktEy2MMtR1EBl69atOHjwII4ePap0a3fhmHWDBg2K9H5CyjPhpFrpBoM5OTkQi8UYPnw4m/NhYWGB7du3K61l9OOPPyqso+Li4oLt27fLDa1YWFigdu3arG1nZwdAkmlduHAhOx8WFlbofLmkpCSWTWnQoAFX/BLgNyr08/OTy9SsWLECffr0ga+vLzdfriQIh6qbNGmi8J7t27fDxsaGGwazs7NDcHBwifalMqKCb6VMmE1Rt3Dbo0ePCr1HmCVRNpu8TZs2qFq1Kt69e4dLly5xm3wlJibi/v37avWnTZs2aN26NW7duoVz587JXX/9+jVbXaSsbsH169e5L4+iBio1atRQWRPhxo0b3EofbRmrJuRjxcbGQkdHB6ampkqLGnbv3h3r168HIFmmX7duXcTGxnK7+apbbHHp0qWYMGECYmNj0bhxYzRt2pSr1yLk4+MDd3d3HD9+HJmZmXB0dGTXRo8ejcuXL7PsysaNG1GlShW5JdFSW7ZsYcdeXl5o1qwZatWqxf5dy5boDwgIQN++fbFmzRr2B9S9e/cQERGBiIgI1KpVC6ampjAyMkLfvn1LbJKt7KTYy5cvY/Xq1WxlpxQFKSWHApVSJvzlqW7lVGWbXUldu3aN+wJStt15tWrVYGhoiLS0NFy5coVbMaPuMsY9e/YgMzMTY8eOha+vL549e4b79+9zK5eE82ikE/IUvUeoqIFKYWRXAPTs2bNE30+IJkRERMDX1xcA4OjoiGXLlim8r0WLFqhfvz7y8vLw5s0bbuJ7r169MHny5CKV1zc2Nlb6vSKrYcOGXPkBocDAQOTl5bHyCfv371cYqPzxxx/4448/AEhWIUrny5iamrLvQ9lABZDUZ+nbty9Wr16NY8eOcSX6X7x4gaSkJCQlJRW5kJ2s5s2bs34sWrSITZQNCwuTW6zQtm1bTJw4kfu+JR+HApVS9vz5c3asp6en1jPC4RXphFihv/76i2ur+kf42WefIS0tDXv37uXGiYU7mgpTlUK5ubmYOXOm3Pn09HQuUClsYuzt27cRFRXF2qNHj1Z5f3EIAxUdHR189dVXJf4ZhJQ14TCD7B8wb968QWxsLA4fPozY2Fi5Ym0dOnTAuHHjlAYRZWXt2rXw9/fHiRMnMHjwYIX3CGuyCPfm+fLLL9nPffv2bXz48AGffPIJ92z16tXh4+MDHx8fnDlzBseOHcOpU6fYnBYAchsaFtWQIUNw7Ngx5OXl4datWwp3YzYyMsKQIUPg6emp8HubFB8FKqVMmFERbiKminBzL0VzWoR/WdSpUwe6uroK33Pu3Dn2jzwvLw+JiYnsryphcHL37l2FzysryX379m1upYGqlUmAZLWBMDASznkpCf/++y9XAbJv375q/7cmRJv16dMHpqamSE1NRVZWFoyMjNjE9fPnz+Pt27cKn9PV1cXmzZuLvHNxaZFmhRSJjIxEcnIyAMlcGOEQjampKXdvenq6ykyPlZUVK/aWn5+PK1eu4MqVK8XarFGod+/e2L59Ow4cOIAjR47gn3/+Qf369dGgQQO0bNkS9vb2sLGx+ajPIMpRoFLKihqoREVFscm3gOJARbhLp6rVL8Ky/YBk92bpP1hhcPP27VukpaXJfQEoC0CSk5O5WezSAnOKHD16lCsU16lTpxLPdmzbto3LqCjbR4mQ8sjDwwM//PADaysbGjYxMcGdO3fw8uVLvHz5EikpKeXil+fu3bsBSOZ+yO50LBuoKPqeUqZu3bpc4PKx2rVrh3bt2inMMpPSRYFKKRP+xXPkyBEkJiaiZ8+ecgXQpIRDJEDhgYqqv5hkv9CEM9dlV8UU5QtAdv+KevXqsePLly9z10JDQ7m2dFVASSkoKODqLowfP56r1ElIeefo6Ii3b99i3759yM3NRV5eHp48eYImTZrA2NgYhoaG+OqrrzBw4ECIRCI2ZyI5OVnrA5XY2FiWTZk8eTK++OIL7nrLli1VTqgllQMFKqVMuFRXGoTExsYqrJwaGxsrF1woqsIoDFRULcMVbpUOSCZ5KXtOUYE0ZRVtHzx4ALFYzFYQCLM6wtosGzdu5FYJ1a1bF19//bXS/hbH9u3b2bLF5s2bUzaFVEjOzs5ydUUUsba2Zv9uZeeyaSPpd2KTJk3g5OSk8J7CJtSSio/qqJQyRcM9isrHv3v3Dhs2bJA7L9wdVUoYgCgLVPLz87m5LgC4GfGywy+ye4QUFBRwFSdlBQUFsTkstWvXZgHZmzdvsHPnTuTk5Mj9PEOGDFFag6A4cnNzuWzKxIkTaT8NUqn16NEDVapIvtYvXrwot4uxNklOTkZsbCwAyeqdWrVqKbxPuO0IBSqVEwUqpSg+Pl5uC3KpgoICrv3zzz+zFKhUly5duCyIIsoClQsXLsidE35p1axZk9t74ty5c9wOzFFRUXKreWTHi4VDQMKVBRkZGdi9e7fcZNzSyKZI67eYmpoqLN1PSGXSvHlzrvib7HeKNpHOTQFU1z0SrmqkQKVyokCllDx79gwTJ06Uqx8iJayyGBMTIzeXA+CrTSpTtari0TvhEIxUZmYm15ZWrpWKjo5mx4oCLNnxbmGZaGHdktWrV8sVk/Pw8PjomfdCubm5CAsLY20XF5cSezch5Vl5CFSePHnCCqR16dJF5XeDcJf2ly9fcjsyk8qBApVSUqdOHaUTZoH/V6yNiYnhNgqT6tKli1pVJJWlds+cOSN37v3799yw01dffQVXV1fWjomJweXLl5GYmKhwZcGrV6+UlsHu3r07t1PqoUOHYG5uDgMDA3h4eMDPz6/Qn6UoIiIiWNE72U0ZCanMhIGKts5TiYuLY6sKC6si3bJlS64tWy+GVHwUqJQikUik9FpqaioiIiIUBikAsHz5cqXPCod7FE2CvXDhAjcfRUg2q/LTTz9xOzrPmjWLWyIo3Ejw7t27cHZ2xvbt2zFv3jy5QEq4ZPnx48fo2bMn4uLiSjxIAcAteaZsCiH/Z2Jiwv5o+PvvvxVO3Ne0+Ph4dqysPL+Uvr4+VwJBWe0YUnFRoFKKzMzMlGYgtm3bprQIUmBgIJfulCUcs5XO0RBS9cWk6P6AgAC2bPjWrVusmq6JiQlXM0AaFFlaWmLcuHFy77G3t+eySEFBQazUdEmKiIjgAjTa14cQnnAoVrpJobb4+++/ERcXB0BS2sDExKTQZ4T7mVGgUvlQoFLKnJ2di7QZ1sqVK5Uu05MS/qN99eoVN/yTk5ODI0eOKH1WdiUQIAl8goODERgYCDc3N9jY2EAkEmH//v1cqXxlFWyFZs6cyT2zdetWrFy5stDnikK4eZmFhYXWVN8kRFsIyxpoW0YlPj6eDd+0adNGrWeEf7hRoFL5UKBSBtRZkquvr4/g4GDY29sXem+zZs24tjCAWLRoEa5fv670WVXbnzs5OWHRokUIDQ1lwzrCoOPVq1fcZoiKmJiYICoqiqt8++uvv+Lbb78tkRn7J06c4HakFg5NEUIkOnfuzDIVGRkZWhWsSLMpgPr/filQqdwoUCkDyoZx6tWrB1NTU4hEIuzdu1ftqq2ye+VIh3OWLVvGrdaR7gkilJGRgZSUFHW7joYNG6J69eqsfefOnUKf0dfXR2pqKhegHTp0CO7u7tzckuKQLWJHCFFMW4d/hJsFdujQQa1naOincqNApQzI1h+RMjMzQ3R0NHx8fNC4cWO132dsbMwFNYsWLUK3bt2wdu1ads7CwgJhYWHYvn07/P39sWrVKnZt165dReq/MOBQNHlXmVOnTnH9zM7Oxpw5czBu3DilVW8LI7tvx5kzZ+RK+hNCtHP45/79+1zpAmXfjbIoo1K5UaBSBoSVFYWEtVSKSnabceFuyCYmJli3bh0AycRXZ2dnDBs2DN988w0AyWRU4SZ+hSnqPBWh4OBguaXDCQkJEIlE6Ny5M8RicZHe16BBA65ab3p6OkaPHo25c+ciJiYGV69eRXZ2Nt69e4f79+/j5MmTWL9+fZE+g5CKwNLSku3fpS3DP7LDv+oGKkIUqFQ+tNdPGahVqxZatmwpN2zy999/o6CgADVr1izyOy0tLbF9+3YuYNHV1YWnpycmTZrEzRGRWrhwIfvlbW9vjylTpsDc3BwPHz5ETk6O0rotwkClKBkVKX9/f7i4uCA8PBwRERHsvLLdmQszbtw4roru69evERkZicjISKXPmJqalmjBOULKg169erE/iP7880+VtZ3KQknMU6NApfKhjEoZUfaXw8dkVSwtLXH48GEsXLgQCxcuRGRkJHx8fBQGKQDw6aefYvny5WyS3Zo1azB58mTMmzcPQUFBSqvoCod+ZCvOqsvU1BT+/v6IioriJgy3aNGiyO+ytLTETz/9VKQAT7Z+DCGVgXCeSmxsrNy2GGVN1UR/dVGgUvlQoFJGlAUqwjL0xWFsbIzRo0dj9OjRatUjaNy4MVatWqWwkquyX+bCjEpubm7xOwvJvJyVK1ciPT0dIpGI2yOoKFxdXREZGYnx48dzO1RL1alTB23btkXfvn3h5uZWopshElJe9OrVC+3atQMg+SNj7969Gu1PcTKysqgcQeVDQz9lpLQCleIwNjaGv78/vv/+e2zdurXQ+4W/5B8/flxi/VBniwBV2rdvD19fX6WF8wghkkKM0kzGvn37uArS5YUwE0R/dFQ+FKiUEWUTajURqEg1bNhQrWBBmLEoKCjAq1evuJLWhBDtZW9vj9DQUOTm5iIlJQWHDx/GwIEDNd2tIpFme2vXro3atWtruDekrNHQTxmRTqiV9TFzVMpK3bp1ubZwhREhRLvp6+tz88JUTTovbcKaTABw8eJFtZ77559/APDD0KTyoEClDCka/snKykJBQYEGeqO+evXqcW0KVAgpX0aMGAEdHR0AktU/xa1j9LFk60VdunRJreekk/iLM/melH8UqJShjh07Kjyv7VkVyqgQUr516NAB7u7urC3cL6ssyQYq165dK/SZgoICtkdZp06dSqVfRLtRoFKGOnfurPC8JuepCK1fvx7e3t5ymxpWq1aNWwpMgQoh5Y+7uzvLjp49e5araVRWunfvzrWF+3Ypc+jQIWRlZQGQTKAnlQ8FKmXIzMwMVavKz1/WhkAlMTERS5cuRUxMDBYuXCg3dizMqlCgQkj5Y2hoiNGjR7N2SEjIRy8XTkxMRGJiotrD1926deOWF9+8ebPQ75OYmBh2TJuQVk4UqJQxRVkVTQcqL168wOLFi1m7W7ducilWClQIKf88PT3ZXLn79+/j559/Lva7cnJyMHv2bLi5ucHFxUWtDUOrVq3KbYFRUFDABSKyLl26xDZUHDhwIL744oti95eUXxSolDFFgYqm56gsWbKEjRUbGhpi6tSpcvcIJ9RSoEJI+VSnTh3MmDGDtQ8ePFjs+Srh4eFsSCY1NRUbN25U6znhCiQA2LhxIx4+fCh3X0FBAZYuXcra5bH+CykZFKiUsS5dusid0+TKn3379nFj1VOnTkXbtm3l7hMGKiVZ9I0QUrZ69+6NadOmsfbChQuLvKM6UPxy+JaWlrC1tWXtjIwM/Pbbb3L3zZs3D3/99RcAYNSoUbRXVyVGgUoZUzahVhNZlWfPnmHNmjWs7ebmBicnJ4X31qlTh3uOEFJ+zZgxg8tszJ49u8i7jH/Mvj2rV6/mlhpv2bKFqzC9fPlyREdHA5CsFPruu++K/Vmk/KNApYzVr18fRkZGcuc1MU9lzZo1bNZ9x44dMWvWLKX3ytZSIYSUbytXruSGUzZt2qR2ATZAsvu7UFGLscXHx0NfX5+1IyIiYG1tjf79+3N/QPn7+8stayaVC5XQ14DOnTvLbXeuTj2BknTv3j3uy2DWrFlc1kSWbC0VQkj55+fnhzp16uDOnTsYOnRokeqU1KtXj5uvVpw9eE6fPg1/f382vyU7O5u7LhKJ0K9fvyK/l1QsFKhoQPfu3bFz507uXFJSUpn24eTJk+y4d+/esLa2LtPPJ4RoB+Hk2qKQDVSaNWtWrPf4+vrCxMQER44cYTWcWrVqhenTp8POzq5Y7yQVCwUqGtCjRw+5c1evXkV+fn6ZZS5iY2PZcZ8+fcrkMwkhFYfscHDz5s2L/S4HBwc4ODggLy8Pd+/ehZmZ2cd2j1QgNEdFAxo0aAALCwu582WVVXny5AmOHz/O2t98802ZfC4hpOKQnTfy8uXLj35n/fr1KUghcihQ0RBFWRV1N+j6WFeuXGHH3bt3h66ubpl8LiGk4jAwMODajx490lBPSEVHgYqGdOvWTe7c5cuXy+SzX7x4wY6Ls5qnXbt2JdkdQkg5JBuo5OTkaKgnpKKjQEVDunXrJlcO+sSJE8jNzS31zxYGKsWZE0OBCiFEWAcFgPTTEOEAACAASURBVMLqsoSUBApUNEjRSpszZ86U+ud+bEaFdjAlhFCgQsoKBSoaZGVlJXeuLAq/CQOVBw8eqPWMsBAUZVQIIV988QWqVPn/rxAKVEhpoUBFg4YOHcp2Mi1LwrFldSfwnjt3DgBgbGyMatWqlUq/CCHlizCrQoEKKS0UqGiYcHOwsiJccXTnzh3ExcWpvD8hIQHPnz8HAPTs2bNU+0YIKT+E24FQoEJKCxV80zBbW1uIRCIAgL6+PpydnUv9M+vWrYsBAwawom8REREqy1SnpKSwYypnTQiR6tSpE44dOwaAAhVSeihQ0QI+Pj5l/pnCQOXYsWOIiYlRWK46JycHQUFBAABTU1MqtU8IYYTF2ShQIaWFhn4qALFYjJiYmCI94+joCEdHR9b29vbGnj17uHs2bdrETfh1cXH5uI4SQioU4SaGeXl5eP/+vQZ7QyqqTz58+PBB050gxde7d29kZWUBkOw0WpTszLNnz/D111+z5wHAzs4OxsbGSEhIwIULF9h5CwsLhIWFlVzHCSEVQseOHdlKwrNnz6JBgwYa7hGpaChQKcdcXV3Z/kCNGjXCo0ePsHXr1iINz8THxyMwMLDQZdHp6ekf1VdCSMXUo0cP3L9/HwAQFxcnV7GWkI9FQz/l1LZt27hNDP38/AAAISEhRXpP3759sWvXLohEIujr68tdnzhxIgUphBClhEUjnz59qsGekIqKJtOWQ0+ePMGGDRtYe/LkybCzs0PDhg2L9b7atWvDx8cHLi4uOHv2LB48eIDatWujc+fOMDY2LqluE0IqIGGgkp+fr8GekIqKApVyaMOGDcjMzAQAtG7dGlOmTAEAWFpaftR7GzdurHDlDyGEKFOnTh12TIEKKQ009FPOXLlyBRs3bmTtKVOmFGtjQUIIKQmUUSGljQKVciYkJARv3rwBAAwZMgTDhw/XcI8IIZWZMFB59uyZBntCKioKVMqRrVu34siRIwCAmjVrYvLkyRruESGksqPJtKS0UaBSTqSlpSE4OJi1p0yZgg4dOmiwR4QQQnNUSOmjQKWcCAkJwePHjwEAnTt3xtSpUzXcI0IIoTkqpPRRoFIO7NixA/v372ftqVOnokoV+j8dIUTzKFAhpY1+22m5e/fucUXcXF1daQdjQojWEK46pECFlAYKVLTcb7/9hn/++QcA8Pnnn9OQDyFEq1BGhZQ2ClS02MmTJxEZGcnaU6dOxeeff67BHhFCCI8yKqS0UaCixYSF3WxsbODq6qrB3hBCiDzKqJDSRoGKltq9ezeOHz8OAKhSpQork08IIdrk008/hY6ODgDg9evXeP/+vYZ7RCoaClS00KtXr7Bp0ybWnjp1Kjp37qzBHhFCiHKffvopO379+rUGe0IqIgpUtNCmTZtw9epVAECHDh0om0II0Wo1atRgx69evdJgT0hFRIGKlnn06BG2bt3K2g4ODqhZs6YGe0QIIapRRoWUJgpUtExkZCSys7MBAHp6erC3t9dwjwghRDUKVEhpokBFizx79oxbjmxvb4+GDRtqsEeEEFI4ClRIaaJARYtERkbi3r17rE3ZFEJIeUCBCilNFKhoidevX3PZlCFDhsDExESDPSKEEPXQZFpSmihQ0RKRkZFIS0tjbcqmEELKC8qokNJEgYqWEGZTunTpAhsbGw32hhBC1EeBCilNFKhogcjISFY3BQCGDRumwd4QQkjRVK9enR2/efNGgz0hFREFKlpAmE1p0KABBg8erMHeEEJI0dAcFVKaKFDRsOjoaKSkpLD24MGD8dlnn2mwR4QQUjQ09ENKEwUqGibMpgCgbAohpNyhQIWUJgpUNOjQoUNITExk7S5dusDa2lqDPSKEkKKjQIWUJgpUNIiyKYSQikAYqNAcFVLSKFDRkPj4eCQkJLB27dq1KVAhhBBCZFCgoiEHDhzg2oMHD0aTJk001BtCCCFEO1GgogFpaWnYv38/d46yKYQQQog8ClQ04MCBA3j//j1rd+zYEb1799ZgjwghhBDtRIFKGXvz5o1cNsXDw0NDvSGEEEK0W1VNd6CyOXDgAO7evcvavXr1goODg+Y6RAghlURcXBxOnDiBjIwM3L17FxkZGTAwMIChoSEMDAzQp08fym5rIQpUyti+ffu49rhx4zTUE0IIqRzi4uIQERGBY8eOyV3LyMhARkYGAGDLli0wMDCAu7s7fTdrEQpUylBycjJOnDjB2g4ODujVq5cGe0QIIRVXfn4+goKCsGnTJrWfycjIwOLFi5GUlISZM2fC2Ni4FHtI1EGBShnauXMnO65ZsyZF7ISQCqFu3brs+Pnz5xrsyf+lpaVh+vTp3M70AGBjY4P+/fujf//+yMzMREJCAg4cOID09HTuvtjYWNy9exchISEUrGgYBSplJCoqClFRUazt5eWFDh06aLBHhBBSMj7//HN2/M8//2iwJxJpaWkYNmwYV87fxsYGzs7O6NevHzvXsGFDmJmZYdq0adi/fz8OHDiA+Ph4dv3WrVtYsWIF1qxZU6b9Jzxa9VMGsrKyEBQUxNrdunXD1KlTy+zzL1y4gB9++AHZ2dlFflYsFsPV1ZULsgghREibApXLly9j4MCBXJAiEokQGhrKBSlCOjo6GD58ONavX49t27ZxCxzat29f6n0mqlFGpQwEBQUhKyuLtcsySHn16hUmTJiAvLw8PH/+HL/99pvaz4rFYhZgJSUlISsrCz4+PqXVVUJIOaUtgcrjx4/lyj2IRKIifW9ZWVnBysoKP/74I27evAlLS8uS7iYpIsqolDKxWMxlI6ZNm1amy9/27duHvLw8AMDt27fVfm7Pnj1cFggAmjZtWqJ9I4RUDJ999hn7fnj06BEePXqkkX74+voiPz+ftYsapAg1bNiQghQtQYFKKXn69CmXkQAkhd1mzJhRpv24ePEiO3748KHazx09elTuXIMGDUqkT4SQimfSpEnsODo6WuE9WVlZiIqKQnR0NPsDqqTExcUhNjaWtR0cHCgDXEHQ0E8pEIvFWLduHV6+fMnOOTo6ws/Pr8z7cu3aNXb84cMHtZ65d++ewkCFMiqEEGV69OgBXV1dvHz5EtHR0ZgwYQK7FhMTgw0bNuDChQvsXMuWLbF48eISy1pERESw43bt2mHOnDkl8l6ieRSolBJhkDJy5EgsXboUAJCQkIBTp07hzJkz+Pvvv9G7d2/07t0b9vb2pdKPtLQ0dmxlZaXWM8nJyXj37h13ztnZGaampiXaN0JI+fD69WtERUXh+vXrSEtLg6GhIfT19bmMRatWrTBo0CDs2bMHV65cwaFDhzB48GDMnj0bu3btknvnnTt34ObmhhkzZmDatGkqPz8wMBChoaEAgEaNGmHYsGEYMWIEm+gaFxfHFXObM2cOGjVqVBI/OtECFT5QycvLY6WS7969y0olGxoaon79+sV6Z1paGrZs2YIqVaogMTERn376KXr06IFhw4ahbdu2aN68OQBJYDB27Fj0798fgCTi9/X15d4VHR2N6OhobN26Fe7u7ioDlvz8fCQlJbG6AL1794aZmZnS+x88eIAXL16wtrqBSmpqqtw5FxcXtZ4lhFQcDx8+RFRUFHbv3s3VGUlKSgIAXLlyhQUQAPDdd9/BysoKurq6GDx4MHx9fVmQ0rZtW3Tr1g1v3rxBSkoKbt26BQBYuXIl6tatC3d3d4V9mD9/PsLCwlj70aNH2LhxIyIiIjB37ly4urpy2RRHR0f07Nmz5P4jEI375IO64wHlTHx8PPbt2ydXsl7I09MTEydOLFLk/fLlS+jq6nLnhHNR/P394ezsDLFYjDFjxrBgaM6cOVzBN2V69uwJd3d32NjYcOfDwsIQEhIit8TYxsaG+6IQOnnyJMaMGcPaR44cgZGRUaF9GDVqFM6ePcvakyZNwuzZswt9jhBScSQmJsLX15fbm0wRHx8fiEQiufPC70UbGxssXrwYjRs3VngdAFatWoVhw4Zx70hISGCFMWvVqoXQ0FC4ublx98yePRuBgYGsHR4ejq+++kq9H5KUCzoLFixYoOlOlDSxWAxfX1/cuHFD5X3nz5/HkSNHUL16dXz55ZeFvvfJkydcBUYpS0tLPH78GJcvX0ZcXBwaNWoET09P1KhRAwAwefJkHDhwAIBkE0J7e3tMnDgRrVu3RkFBARd8ZGZmYv/+/ahVqxY6d+4MQPKF8e2333LZEak7d+6wPsiKj4/H8ePHAQD6+vqYNWtWoT8jACxcuJAN/bRq1QoBAQFywRkhpOJKTEyEh4cHcnNz2bmvv/4aXl5e6NevH9q3b8+yKklJSTAzM4OhoSG7t6CgAP/5z3/w9OlTNGjQAGKxmGWapaTfWdL3JCQkoGvXrmjWrBm7Z+XKlbh58yYAyWIEFxcX1KxZEydPnmT3/PPPP2xi7qBBg7hJvaRiqHCrfgICAliUXrt2bQQHByM9PR1//vkn1q9fjyFDhnD3Z2ZmYv78+Rg7diw3n0PWtm3b0LBhQ6XXx44di3r16gEANm/ejKdPnwKQ/EOTTky1srJCaGgofHx80K9fP0ybNg27d+/G7t270bp1a+59S5cuxcmTJ5Gdnc39BWFtbS3314s0CJIlTNUWZdhHOL/G3d2dVvsQUolcuXIFbm5ueP/+PQDAwMAA27Ztg1gsxtChQ+Ho6AgfHx/s3buXPbN69WruHXv37kVmZiYAYMCAAWjVqpXCzxo3bhz09fUBSLLVP/30E/v+SUlJ4b7bbG1tAUi+a4VVvaV/rAGSYR9S8VS4QOXQoUPseO7cubCzswMAfPHFF+jbty+CgoKwd+9eDBgwgHvuxIkT+PbbbxUGK66urhg9erTKz23VqhUbZrl9+zZ+//13HDt2DL/++isAyfhsQEAAqlWrJvdsp06dEB0dLResnDt3DgsXLmTtZcuWYevWrfDx8WGZEunnvXr1Su69xZlIK5yfoqurK/ffiRBScb1//x5OTk6s7eHhgbi4OIXfH19++SUGDRoEQDIBXxisCFf3qJovUrduXYwcOZK1r169yoayhUuNW7duja5duwIAqlWrhqFDhyp8V/fu3Qv9GUn5U6EClcTERK4CbHZ2Nvf/7FJffvkl1qxZg3nz5nFDObdu3YKPjw9XrMja2hrDhw8vcl/+2959h0V15u0Dv40tomAHC4oKWNGAbWyAIljQiIpG1FgSlZjEwOa3xL4xZvWNcTVZ0NXEEqwRYxSNSsSOxoJGsKAYFRTEABZCEDGKrr8/uObZc2bODIPCNO7Pde31nnPmzJnHfdfxnqd8n/Pnz2Pjxo3iPCAgQKvrU6pq1aqYO3eumEzr4OCAxo0bi96Yvn37yn4tODo6yr4AihtHNrQM9KVLl8Rx37590bBhQ6Snp2PAgAHw9vbGsWPHDHoOEZmH/Px8jBkzBs7OznB2dsb/+3//D/v27VPcPHDevHl4+vQpgKIlvsWVVFCpVOJ4xYoVuHz5MgDg4sWL4rqTk5PO94eHh2PZsmWya6tXr8aVK1dw+/Ztcc3Dw0N2z5QpU2BjY6PVlqpVq+ptL1kmqwoqmiIiIjB37lxcvXpV8fV33nkHmzdvlvUaXL16FYsWLRLvz87ONrhXIScnRxzHxcXh+PHjAIr2kejfv7/iezIyMjBmzBhMnToVEyZMQHp6Or7//ntERkbixYsXovs1KChI671169YVx0o9KlLq7tXiSHtUVCoV9u7diz59+uD69evIyMjA0qVLDXoOEZmHhIQEMQ8EKFppqK6QPW/ePDFE88MPP2DLli3iPs3K1EqkQzoFBQXic6Q/nNRD4koOHz6sde3x48c4cOCAaBcAxWremvMKpaGJrIvVL0++f/8+rl27htatWyu+3rZtW3zzzTeYM2eOWOIWHR2NVq1aISYmBg0bNjR4joZ6uR1Q1D1ZWFgIAOjfv79sopnU9u3bZV8iiYmJ4i+ctCu1ZcuWWu+VrlbS18aKFSsavLJJGlROnDiBffv2yV5XT/AlIssg3ZxPKjc3F5s2bUJMTAwmTZqEo0ePitdmzpxp0ApBZ2dnVKxYUfygSkxMBFD0w0jdu62rDMT58+cVSyEARd/B0lL4huw0b8iCCLJMVtWjojT/A5BPttJl4cKF+OCDD8T5+vXrcf36dYP+sqpJg4o6pAD654dozkuROnPmDICiPSeUho2km38p/WpRh5eX6U0BIAspTk5O+Pbbb01SXZeIXp6fn5/i8mG1nJwc/Otf/8LZs2fFNaU5IEpu374NFxcXcZ6QkAAAqF+/vrhWUFCg+F7pPDul56oXJFSqVAlNmjTRukf9uprSikyyDlYVVHR1MeoqJKRp8uTJqF69OgAgMzMTAHTOVleiK3ToK8qmnuyr6cKFC2LZctOmTbVez8nJQUxMjDhX+tWiDlmGBhVddV5GjRqFbdu2icJ1RGQ5FixYgPj4eMyZMweDBg1ClSpV9N7v6uqKBg0a6L0nKioKAQEBGD16tKwMRFZWFtLT02Xz5/bu3av4jJMnTxrUfqXv4OzsbK0hfQYV62VVQz9K/1i//fbbepcVS9WsWRM9e/bE/v379T5Tl+XLlyMmJgbr1q2T9eJIf3Fo0vy1of4SOXfunLim1KsjDSmdOnVSfHbz5s0ByOfOaCosLER0dDR27twpG4ICiobF3nvvPQwePFjn+4nIfIWHhyMyMhJA0V5fW7ZsQXp6OqKjo7F161atApKA8g8jtaioKGzZskXnkA1QFEx69Ogh5rgsWLBAFG1TO3DggKyopFqfPn1w5MgReHh4iGGkGjVqaN135MgRrWslDSqXLl1CQkICLl68iEuXLiE9PR316tVDvXr10LlzZ/j4+KBHjx4leiaVDasPKgMHDizRMwYPHiwLKrq6LZXUqVMHb7/9ttbwSFZWls6//JrPV/+SSUtLE9eUgo6090PXvJEOHTqIZ23btg0jR44Ur129ehWHDx/Grl27FJdk9+/fH0uXLmWhNyIrcebMGZw4cQI9e/ZEaGgoQkNDsX79eqxevVr0IANAhQoVZO/7888/sXPnTuzYsUMEFJVKhcDAQAQGBiIuLg7vvvuuuP/f//43YmJi0LdvX7H/jrOzMz755BO4u7sjOzsb//rXvxTb2KFDB1Esc/jw4QCUv4Olk37VDC2yHhsbi59++klr/h1Q1JOemZmJS5cuITIyEu7u7pg4caLBQ2FUNqwqqFSqVAn16tUTy4ubN29e4p05NZe3Sf8C63Pz5k0kJSVpjZsCRXNJDA0q6h2Ks7KyxDXN5X1RUVGyXzStWrVSfLazs7P4ZTJz5kwsWbIEjRo1wu+//y5bgq1k2rRpDClEFk66MhAo6u2Q1hqZMGECYmNjZd9zZ8+exbx586BSqXD8+HEcP35cvN6rVy+8/fbbspWQ3t7ecHJyEj+unj17hhUrVuDLL7/ExIkTxXeVrnAiVadOHahUKrGfGaD9HblhwwbFHp2LFy/qnQ+4Y8cObNy4UbZ0ujjnz5/H3/72Nxw8eBDh4eEGv49Kl1UFFQBo1KiR+EdY3aNQEtKS0QBkM8+V3LhxAytWrMCuXbt03vPDDz/oDEy6emykXxyaQUX6a6Jq1aqiEJIST09P0YV6//59xYBSp04dDBw4EJs3bxbX9NV8ISLLoPm9s3v3bnz44Ydo3Lgx0tLSsHLlSq0h3z///BObNm3Cpk2bxLWOHTti3LhxWnvxqG3YsAHx8fEiROzcuRODBg3C0qVLER4eLhuqVnN0dISDg4NsmFu9AED6vSutlJ2WliYrgunu7i6Ky+kKKkePHsX69eu1akA1atQIXbp0QcuWLdG+fXu88cYbqFGjBlJSUrB//37ExsaKulJ79uxBgwYNMGvWLMU/P5Utqwwq6sTcqFGjEr9fM6joK6u/Zs0arFy5UuwzoUtcXBzS0tIUCx9J/xICEEWYpEFFurR5165dsl8T/fv3V5wRr6behl2pJoKnpycCAgIwbNgwpKWliaBiZ2fHiWlEFiwqKgpBQUFwcXGBq6urWJFYUFCApUuXIjc3V++qG7VevXph4MCBinWcpBwdHeHo6IjCwkKxQ3xUVBRWrVqFZcuWwdvbG3fu3AFQtLmgm5sb2rdvjzVr1siCirqMgrSYm/o78v79+/Dx8ZF97pAhQ0RQkRarBIqCS2RkpNbGtJ07d8aQIUMwZMgQ2Nraav1ZnJ2d8f777+P999/H3r17ER0djSNHjmDNmjXo2bMnvLy89P53QaXPKoOKmlLlxeJo/rrIzMzEjRs3ZPNEDh8+jMjISMVZ67Vq1dIKLrm5uZg7d66sUq2aZspXbzwo3YCwsLBQbHCo+eWiLmGtT2hoKCZMmIDs7GwUFBSgfv36cHBwkC3nli51Zm8KkeWKiYnBnDlzsGTJEsXeVqXeXzc3N0RERCAuLk78WPPz80Pbtm1L9NlBQUHYvHkzrly5gkOHDuHw4cPw8fGRleWX0lwooA4q0gUQ6qCiWdDtyy+/xKBBg7B8+XLk5OTg4MGDSE9PR4UKFRAZGYn169fL7vfw8MB7771Xom1BBg0ahC5duoiemu3btzOomACDikRGRoas6JHatm3bMGvWLMTExGDnzp1igpgmDw8PNG3aVPGL4OTJkwgMDMT48ePFcuENGzYgNjZWdp+6zY0aNRIrh3Jzc0XylwYVT09PnRVvNdWqVUvvCib1rx0Ast1LiciyqGs4/fHHH4pbiEipVCoMHTpU7Lczfvz4V/784cOHizkmUVFRWr0gUppLj5WCyvPnz7UCzddffy2Gofz9/bFp0yaxgvG7776Tfffb2dkhODgY7733Hl57reQVOezt7cXxvXv3Svx+enVWHVSkvRKGkO4GKrVmzRqsWbOm2PePGzcOtra2OuernD9/XrZZlxJ1m6VBJScnB02aNMHp06dFb029evUwc+bMYttkKGlQYY8KkeUKCAhAUlISsrKykJmZiTt37uDu3bvi9ddeew2zZ8+Gq6srevXqVeqfHxgYiHXr1iEjIwOHDh3C9u3bde5qrC6hoKauhWVjYyOboCsVGRkp69UYOHCgmE+jOcQ9dOhQBAcH61xwYAil+TVkXFZV8A14+R6V3NxcxeVqhgoJCUFAQAB8fHzQt2/fEr1XPawDFHVzPnv2TPbnSE1NBVA0OVjd/Tlv3jyd2wK8DOlcGUPrzhCReZozZw6WLVuGH3/8EadOnZIVw/zvf/+LLl26lElIAYp6MNRLiwHgm2++0XlvtWrVZN9/an/88YdWAc2qVasiNjZWa+ilW7duWkGoXbt2iIiIwNKlS18ppADyoTLNzRHJOKw6qEh3Ui7O0qVLkZycLM7feustvWWnpUJCQsSkVQAIDg4utvojUDTDfdGiRVoVdXNycsQyZeB/xd9sbGzw/fffIyUlRWdF25clDSpclkxkXaQl7QF5D2pZCA4OFj2zqampehccqKuBq+3cuRP+/v5i53i1zZs36yyeGRISIusJ7tu3LwYNGvSyzReioqJEO+rUqYNJkya98jOp5KwuqEjrBqSnp+PatWvFvic6Ohrff/+9OG/fvj3mzZuH0NBQhISE6NxDCNAOKUDRrPKwsDDZtWrVqqFZs2aoUaOGmFW+adMmjBw5UmuFTW5urqwarHRWfFlhUCGyXpr1VMp6rkW1atUQEhKCsWPHYtmyZXrnx0lX+CxZsgR///vfZUNValu3btX5DEdHR9l3bkREBMaNG6e14qck5s+fL1Ywqc/Z22waVhdUAMj2qQgODlbcSlzt+++/l/0PvHr16vjmm29Ed2RoaCiioqLg6+srisFVrVoVvr6+2Lx5s1ZIUZs0aZIs0T9+/BgODg64cOEC9u/fj7CwMDF0o9Sj4uzsLPYIunbt2isNSxlCGlSkXxxEZPk0d09XCgKlLTAwEJ9//nmxvb/SEvnSHeNdXFywcOFCcb5t2za9RdfefPNN2WTgkydP4uOPP8bQoUPx2WefYfv27cX2sp87dw5ffvkl/Pz8sGHDBnF92bJlpd6LTYazusm0QFF1V3Vl19u3b2PKlClYtGiRrIT8o0ePsG7dOnz11Vey927dulVrQy53d3d8++23ePr0KRISEtCxY0eDhnbCwsKQkpIiNs+Kj4/HmDFjZL03gHZQUXeT+vj4iMm369atM2gp8suSFp5jjwqRddEMKsVVpjYmpR9GU6ZMEYsFDh8+LFZaRkRE4Ny5cxgyZAg6duyIFi1aIDExEYmJiThw4IDYcV7q0qVLshortWrVQrNmzeDk5AQnJyekpqYiNTUVN2/e1KprNXDgQAwfPlzvyiUqe1YZVFq1aiWqsarNnDkT58+fh729PW7evInDhw/LVgXZ2NggKioKbdq00fncKlWqlKgkf9OmTbF69WqEhYWJ+ixKG2xpdsuq6xj06dMH//nPf/DkyROcPXsWK1aswAcffKDz8+bMmYObN29CpVLp7OnRhUM/RNZLM6iYwzLbtLQ0LFy4UDa03b59e8ydO1dW/0WzFP+JEydw4sSJYp9fvXp1xZWfubm5eldg1q9fHz4+Phg+fLjeqt9kPFYZVNq1a6d4PSoqSvH61KlT8cknn5RJWxo1aoQVK1ZgxowZePjwoWzzLjXNHhz1bsdt27bF5MmT8Z///AdA0YRfBwcHrRnup0+fxhdffCH+It+6davEQYXhhMh6aQaVkpZuKG27d+/GF198obV78/Tp07XCQe3atbF06VJERkbq/A6Xcnd3x7hx4zB06FCcOnUK27dvR3R0tN73ODs7w8/PDz169EDXrl31zksk47PKoCKtpmhnZwdnZ2etHhYA6N69O0aMGIGhQ4eWaXtq1aqF5cuX4+HDh4qTsTS/RKQz5CdPnozY2FhRyn/69OnYu3cvAgICcOvWLZw6dQpnz56VvV9fr4suSiWricg6aK76MaV169bhn//8pzi3s7MTe/s8ffpU8T3q+SqjR4/G3r17kZaWhrS0NNy6dQu2trZwdHREu3bt0KVLa2uaBAAAIABJREFUF9lChO7du6N79+749NNPkZGRgTt37oh5Ko6OjmjcuDEcHR25ZYiZs8qg4ubmJo7z8vIwa9YsXL58WUxIValUGDRokM6lbmWhcuXKOmeMawYV6X5DdnZ2+OSTTzB79mw8ePAAQFF1WqV9Opo2bYoFCxbIdkc1lLRHRddGiURkmfStujGm+fPnyyap+vn5IS8vTwyNP3nyRO/73dzcZN/vhrKzs0Pbtm1LvCUAmQerDCqVKlVCy5YtxdLk9PR0jB8/vlTKQ5cFXXNU1Hx9fdGsWTN89tlnOHXqlOIzevfujc8++0zvBoX6SIMKe1SIrIvS5nvG5uPjI6s0O3fuXLzzzjsYM2aMuFZcUKHyySqDClA0T0UdVNSl6M2Vvh4VNRcXF6xduxYbNmzAgQMHkJqaiooVK6J9+/ZiJ9BXIa0OyS8LIuti6qDSuXNn2ffamTNntH6gAfzuIWVWHVTUE6h+++03E7dGP82/sOrJtJqqVq2KKVOmYMqUKaXeBs0y/kRkPUwZVN566y1ZSDl79qzOYXAGFVJi1UFFzZRB5fDhw0hLS0ObNm10Lm22tbVF1apVxV9SfeWmy8rHH3+M7t27Izk5GU5OTkb/fCIqOzY2NqhYsSKeP39u1M+dOXOmbPnx7t279VZ3ZVAhJVYbVKQTrm7fvo20tDST/AO8c+dO7N27F8D/xmSV1K1bF7///jsA4OHDh3j27BkqVTLu/3u6detWojoxRGQ5bG1tjfoj6IcffsC2bdvE+erVq4udzMqgQkqssoQ+UPQLQhpWjh07ZvQ25OTk4NdffxXnXbt21Xmv5jwVXcM/REQvw9jDP5GRkeI4ODhYZ3VXaTipUKFCmbeLLI/VBhUA6NGjhzg2pJJhabtw4YKsoJGuQnSA9peIKYZ/iMh6GTOobNu2TbYh7MOHD3XeK52/4uDgUKbtIstk1UFFWk8kPj7e6PVBpIXY1BsM6iKdzAqwR4WISpcxg4p0c0EAsr12NP3555/imEGFlFh1UJHOt8jLyzN6r8r+/fvFcXF7Rqh3ZiYiKgsNGzYUx9JwUNpu3bolq5cCAElJSYplFwB57zGDCimx6qBSqVIldO/eXZyrqx8aw/Xr12X1W7p06aL3fs0eFSKi0iTdU+zu3btl9jmxsbGK19PT07WuaQ5xM6iQEqsOKoB8norSFuBlRXNvIemvGSVVqlQpy+YQUTkn/Q7Kyckps6XKBw8eVLzeokULrWvSnh0bGxuTF6Yj82T1QUXao3L58mXZBK+ydPXqVdl5zZo19d7PHhUiKkuau7Tfv3+/1D/j6dOnuHLlitZ1e3t7xRAiHQ6yt7cv9faQdbD6oOLh4YHq1auLc2P1qmgGleI2BeMcFSIqS82bN5edl8Xwz7Vr1/DXX38V+9lq6l3hAQ77kG5WH1QA+eofYw7/SNWoUUPv6wwqRFSWnJ2dZd8zmhNeS8Ply5cVrzdr1kzxunST1eLm8VH5VS6CinT45+zZsygsLDRha5Q9evTI1E0gIisnrQyrK1S8Cl3hR1dQkZbX11cQk8q3chFUpEn97t27RulVKemksPz8/DJqCRFRkTZt2ojj5OTkUn++rmXPStuXpKSk4Pbt2+JcWkmcSKpcBJU2bdrIJpIZY5nyG2+8UaL7NXtUOLmWiEqb5uKC0paXl6d4XXMiLyD/HnZ3dy92wQGVX+UiqADyZcrSirFlxdXVVXaemZmp937NoNK0adNSbxMRlW/e3t7iOCcnR2vS/6vS1aOitGPy+fPnxXHHjh1LtR1kXcpNUJEO/5w5cwZZWVll+nndunWTLbeTjsUqkQaV6tWr690KnYjoZVSvXh3+/v7iXFdxtpelqydYadXjhQsXxDGHfUifchNUVCqV7DwhIaFMP8/W1hZ9+/YV50lJSXrvl85RYW8KEZUV6dYiW7duLdVlyrqGbypXriw7v3Tpkmxpcvv27UutDWR9yk1QcXJygouLizjXrBxbFnx9fcVxcV2s0h6Vli1bllmbiKh869u3L2rXrg0AyM7OxpYtW0rt2XZ2dorXNcvnHz9+XBx37dpVsWotkVq5CSqAfPmb9C9KWenduzdGjhwpPk9fOJIGFV07LR87dgzh4eGIjo4u3YYSUbnRoEEDjBgxQpyXZq+KoUHll19+Ecf9+/cvlc8m61Wugop0guv169fLfJ4KAAQHB4tfL7t379Z5nzSoaE7EVfvHP/6BiIgIhIWFYc6cOaXbUCIqN0JCQlCxYkUApdurIg1AUtL6Kjdu3BArfmxsbBhUqFjlKqhoruWXTuYqKy1atBChYs+ePTrnqjx+/Fgc6xr6ycjIEMfmWLSOiCyDjY0NPvzwQ4SEhGDJkiUIDQ0tlec2btxYNllXTdqjIu3NHjJkSLEbthKVq6CiOWFr586dRvncYcOG4R//+AcePHiAUaNGYevWrTrvDQwMRN26dYt9ZufOnUuziURUzoSGhiI0NBTDhg0r1ef6+PhoXZP2qEiDyujRo0v1s8k6laugUqdOHdmKmv3795fJDqJKJk6ciGnTpuGvv/7C7NmzERISgo0bN+Lq1auyuSvDhw836HmsO0BE5mjYsGHo1KmT7Jo6qOzcuRNxcXEAgKCgIC5LJoOUq6ACAF5eXrLzsigjrcvHH3+M8ePHAwD27t2Lzz77DIMGDRLjun5+frKlg1LSHUkrVqwoW8FERGRO5s+fLztPT0/HgQMH8M9//lNcY28KGarcBRVj11PRNG/ePAQEBGhdd3V1RVhYmM73aRaEIyIyV23atNGa9zJ16lTk5uYCYG8KlUy5Cyr+/v6KVRKN6auvvsLChQvRsWNH2NjYYPDgwVi+fLneXpKCggJxzKBCROYuJCQErVu31rquUqkwefJkE7SILFUlUzfAFNTDL/omtZa1oKAgBAUFGXy/tHJtjRo1yqJJRESlysXFRRS7dHV1xcCBA/H++++jSpUqJm4ZWZJyGVTUXZKltSTPGKQ9KgwqRGQJpCUhvLy8LOo7l8xHuRv6sVSco0JElka6ylK6RJmoJBhULASDChFZGmlQ0SyjT2QoBhULwcm0RGRpmjVrJo4ZVOhlMahYCGmPCueoEJElsLe3Fz+s/vrrL6Smppq4RWSJGFQsBId+iMgSvfHGG+L40qVLJmwJWSoGFQvB5clEZIkYVOhVMahYiIcPH4pjW1tbE7aEiMhwHTp0EMe6do8n0odBxUIwqBCRJWrXrp04Zo8KvQwGFQvBoR8iskSNGzeGg4MDgKIJtZcvXzZxi8jSMKhYCPaoEJGlks5TMeaO9WQdGFQsBIMKEVmq9u3bi2P2qFBJMahYCAYVIrJUbdq0Ececp0IlxaBiIRhUiMhStW3bVhxfvHhRVmmbqDgMKhaCQYWILJWDgwOcnZ0BAM+fP+fwD5UIg4oFePToEV68eAGgqCpthQoVTNwiIqKSkS5T5oRaKgkGFQvA3hQisnTSeSrsUaGSYFCxAAwqRGTpWrduLY7Zo0IlwaBiARhUiMjSafaopKenm7A1ZEkYVCwAgwoRWbr69evDy8tLnP/yyy8mbA1ZEgYVC8Dy+URkDXr16iWOjx8/bsKWkCVhULEA7FEhImvQr18/cfzLL7/g/v37JmwNWQoGFQvAoEJE1qBJkyZQqVQAgIKCAvaqkEEYVCwAgwoRWQtfX19xzKBChmBQsQAMKkRkLQYPHiyO4+LiTNgSshSVTN0AKh6DChFZC3t7e6hUKsTHxyM3NxenT59Gt27dTN0ss5Cbm4szZ84gOTkZ8fHxuHv3Lu7evQtbW1t07NgRLi4uCA0NNXUzjY5BxQJw1Q8RWZOGDRuK4+zsbBO2xDwkJiZi48aNiIuLQ25urtbrjx49QkxMDABg69atWLFiBdzd3Y3dTJPh0I8FyMvLE8fsUSEiS1evXj1xfO/ePRO2xPT279+P8ePHY9euXYohpU6dOvDw8ED9+vUBFAW7wMBAPHjwwNhNNRn2qFiAJ0+eiOPXX3/dhC0hInp1s2bNQufOnQEAfn5+Jm6NaX3xxRcoKCjQuh4UFIQRI0bAw8NDXFuwYAEiIyMBALNnz8a3335rtHaaEoOKBfjrr7/EMYMKEVmD8h5Q1FxdXcV2AvXq1cOQIUMQEBAANzc3rXvnzp2LmJgYZGdn4+DBgzh06BD69u1r7CYbHYOKBWBQISKyTu+++y7y8/MRGBiIwMDAYu9/4403sH//fgBgUCHzwaBCRGSdunXrVqJVT+7u7rKgUh5wMq0FYFAhIiIA6Nmzpzi+f/8+Tp8+bcLWGAeDigWQTqatUqWKCVtCRESm5ObmhqpVq4rzO3fumLA1xsGhHwvAHhUiIvMQHh6O8+fPIyEhAba2tmjVqhX8/f0Nml9SWhwdHZGSkgIAyMjIMNrnmgqDipl7+vQpXrx4AQCoWrUqXnuNnWBERMZ29+5dzJ8/H/v27RPX8vPzkZmZiaNHjyIjI8NoVWMbN24sggp7VMjk2JtCRNYqKysLZ8+eRXZ2NhwcHFC/fv2XLqd/48YNbNy4EZs2bZJdnzx5MiZNmgR7e/tXauuMGTNw7Ngxcd6qVSt4enpiy5YtePToEdasWYPAwEA4Ojq+0ucYQvoZ7FEhk5MGFem4JBGRpUpMTMTChQuRmJio9ZqjoyN8fX0RHBwMBwcHg573n//8B1999ZXia2vWrEFsbCwmTZqEcePGvVR7o6OjZSHF19cX8+fPR4MGDWBjY4OIiAgUFBTgwoULRgkq0sq+5QHHEcwce1SIyJocPnwYkydPVgwpQFEPwbp16zBu3DixDFefzZs36wwpardv38Znn32GRYsWvVSbN2zYII4nT56Mb7/9Fg0aNNC679atWy/1/FdRWFio1YtkbRhUzNzTp0/FMYMKEVmyP//8E59++qlsT5vAwECMGjUKKpVKdm9KSgref/99rF+/Xufzjhw5gk8//VScq1QqHDx4EKdOncIPP/yAoKAg2f2rV6/G3LlzxXlERESxbT569CguXrwIAKhUqRLee+89nff+9ttvxT6vtF2+fBnz5s3D9u3bjf7ZxsKhHzPHHhUishY7d+5EZmam7Lx9+/bi/ObNm/jpp5+wb98+XLt2DQDw+eefo0KFChg/frzW8/bs2SOO33rrLXzxxRfi3N7eHp06dcLo0aMxb948nD9/HgCwZcsW5Ofn4/nz54iJiUF4eDhCQkJ0ToRV71oMAF26dEGdOnVkrycnJ4vjSpUM/ydVXf/E0dGx2OGi+/fvIzs7Gzdu3MD58+dlPU3q8hXSMhbWhkHFzDGoEJG1kAaLAQMGyEIKADRv3hyhoaEYPnw4ZsyYgfj4eADAihUr4O3tDScnJ3FvSkoKdu/eLc6HDx+u+Jlubm5YtWoVZsyYgSNHjgCA7H0AsGPHDp1BRd2bAgB9+vTRej0pKUkcu7u7Kz5DKi8vD1OnThV/NqAorLRp0waOjo547bXXkJWVhaysLGRnZyMrKwvPnj3T+8wWLVqgadOmxX62pWJQMXOcTEtE1uLq1aviuF+/fjrva9KkCdasWYOwsDDExsbi3r17WLFiBb788ktxz549e/D8+XMARRscdunSRefz6tatizVr1mD69OmKQySVK1dWfN+zZ89k8040g8hvv/0m6yFydXXV2Qa1+Ph4WUgBiubllHT1zosXL1ChQgV0796dc1TItNijQkTW4MaNGygoKBDn3t7eeu+3sbHB7NmzxbDIjz/+KBuGkf7D7uvra1AbFi9ejPfff1/reocOHRTvv337NgoLC8X5G2+8IXv9+PHjsvOWLVsW2wbp8wxVvXp1NG/eHCqVCnPmzIGvry8qVKgAoKimirVjj4qZk447MqgQkancuHED9+/fR7169VCvXj3UqlWrRO9//PixOLazszPo/Y6OjggJCcH06dMBFE2G9ff3F+1R8/HxMbgd/fr1w8qVK2XXXFxcFO+9ffu2OG7Xrp3WHBTpXBF/f3/UrVu32M/39/dHYWEhDh48iAcPHojrr7/+OpycnNC4cWNRU8bBwQH29vaoXr267Bnnzp0TxzVq1Cj2My0dg4qZ49APEZnagwcPMG3aNFy/fl1c8/b2xsiRIzFw4ECDniGt/aE5IVWfwMBAbNy4EZcuXcLFixdx8OBB+Pr6iqCiUqlK9LzatWtrXVu6dCkKCwu15qlIh33q168ve+306dOywGDofw8AEBAQgICAAIPv1/Tw4UNxrBlirBGHfswch36IyNSio6NlIQUA4uLiMG3aNIwePRo7duwo9hkvG1QAwNPTUxzv3bsXAFCxYkUAkM0RMYSunpyIiAhERkbKrv3xxx/iWDMQSHtTXF1dRU+PMahXRAFAmzZtjPa5psKgYuYYVIjI1Nzc3HS+dubMGXzyyScYOnSoCBFKKleujNatWwMAEhISZL0CxenZs6c43rt3L1JSUkTgyMrKMvg5AGBraysLHU2aNBHHK1askM2jkZIOsTx69AixsbHivCS9Ka/qzp07uHfvnjj38PAw2mebCoOKmePQDxGZWrdu3RATE4Nx48bp/B66dOkSQkJCEBYWJps/IiVdmfPTTz8Z/PnSOiPPnz/Hnj17RK/M06dPRU0SQ0mD14IFCxASEgIAyMnJwf379xXfY2NjI45/+OEHEZA6dOigOEG3rFy+fFkcN2nSRLFCrrXhHBUz9+GHH4qZ5H5+fiZuDRGVV61atULlypVlE/xbtWqFlJQUWZ2P6OhoHDlyBP/+979lQzZAUVDZuHEjAODTTz9FRkYGBgwYACcnJ9jY2CA/Px/5+fl4+PChrMelW7ducHNzEzVLTp06BXd3d1y4cAFA0ZJfQzczzMzMxKVLl8T5nTt3EBoaiqCgINy8eVNnPRJ1ULly5Yqsou3UqVNRpUoVgz67NEjb3rFjR6N9rikxqFgABhQiMrWsrCx89913smv9+/fH6NGjcfz4ccTExODo0aMAgNzcXMyaNQtr165Fq1atxP2DBg3Cxo0bcfbsWQDAqlWrsGrVqhK35ezZsxg1apQ4j4iIgEqlMiis/P3vf5cN76hruzg4OOjdBHHz5s2YOnUqIiIikJeXBwAYOXIk+vfvX+L2vwppATpDCsxZAw79EBFRsRISEsSxSqXCd999h9DQUNjb2yMwMBBr165FdHS0+MczMzMTX3/9tdZzJk6cWCrtKSgoQPPmzcX52LFjER4ervP+8+fPY8CAAVrF1jRroUh17dpVHOfm5iIyMhIHDhwAAPTq1Qvz589/2ea/lP/+97+yHpV27doZ9fNNpcKLFy9emLoRZFrp6em4evUqkpOTcefOHWRkZIj/6+TkBEdHR3Tu3FmM4xJR+RMeHi6GPN5++22d/0jn5eVh+vTp4h/0xYsXIzAwUOezdPHy8oKfnx/S09Oxfv162QatQFEJfl9fX4SFhcmuBwQEoGfPnqhZsyaysrKQmpqKEydOyObNBAYGyirU7t69G23btlX8s6gnq9auXVusAmrbti3Wrl0Le3t7vX+G0nbp0iUMHToUQNFQ1NmzZ8vFIgsO/ZRjp06dwoYNG/RupZ6Wlib+w6BCRIB8eawmOzs7hIWFiaBy6NAhraCirleiFFZat26NyZMnY9iwYeJa7969MWvWLKSnp4trp06dwscff4zZs2fj//7v/8T1Xbt2YdeuXTrbFxQUhIULFyIhIQE3b94EUDTHRSmo2NnZoWPHjkhISBAhxd/fX/QkGZt0Im2HDh3KRUgBOPRTLqWkpGDGjBl4++239YYUqZLuQ0FE1kW6pFdfUAHklV5zc3MV7wkNDcWuXbsQFBSE5s2bw8HBAe+88w7Wr18vCylA0WRadU+C2p9//olp06bB29sbn3/+uc7qsmo1a9ZESEgIFi5cCACYMGGCeE1zOEgqKChIHLdo0QLz5s0r9rPKinSYSt+ScWvDHpVypqCgANOnTxdbnhuiWbNmGDJkSBm2iojMnfQfxtzcXNy9e1dnr4KhP2zc3NxEcCiOUnn669evY9q0aVi+fDkCAgKwfv16xMTEyDY/dHR0hLe3NyZOnIgWLVqI6zk5OeL44sWLyMvLg52dndZnBAYGYteuXThx4gRSU1PxySefYPHixVqVasvalStXsG/fPnHu5eVl1M83JQaVcmbGjBkGhZQGDRqgY8eO6Nmzp+wXBRGVT+3bt5edX7t2TWdQkc7/0Bz2eVmNGjVSvK4OK6NHj8aHH36IDz/8EAUFBbhx4wbq16+Phg0bKr5PpVKJ4+zsbPz666869wyaMGECTpw4AQA4duwYJk2ahL/97W8l2mPoVUVHR4vjdu3ayYrgWTtOpi1HFi9ejG+//Vace3l5QaVSwd3dHba2trC1tUWNGjVQo0YNo9YFICLLMGDAAFFKf/jw4fj73/8uKzh2+PBhREVF4dChQwCKSt+vW7eu1D5/zJgxYphGpVJpDdk0adIEH3zwAd566y2Dnufm5iY2SwwJCUGLFi3w5ptvKt4bExODjz76SHatb9++CAgIgJ+fn87vzFu3bmHXrl1a+wiVlEqlEsXo/va3v2m1xZoxqJQTubm56N27tyiiNH78eMybN8/ErSIiSzJr1iz88MMPBt1ra2uLH3/8sVTnc+Tl5cmCyp49e7By5Ur8/vvv4h5/f38sW7bMoOd99NFHiImJkV0LCQnRGSpiYmLw9ddfIzU1VXa9cuXK6NatG+zt7WFvb49Hjx7h7t27uH79OlJSUgAAS5Ys0Zp7Y6g9e/bI2nTmzBmDdmq2Fhz6KSfi4uJESPH09GRIIaIS8/DwMCiodOrUCcHBwaU+6dTOzk5WAHPMmDF488038dNPP2HVqlXIyMjA8OHDDX5enz59ZEHF1dVVNslWk7+/P7p3765VqK6wsFBvPRYAshVLJbV27Vpx7OXlVa5CCsCgUm5I99V4le3Fiaj8kpZsr1ixIp4/fy57vWXLlhg2bBiCg4ON1iZbW1uMHTsWY8eOxcOHD2Fra2vwe/v06SM7f//993XurqxWu3ZtzJgxA4GBgdi7dy9+/vlnrZ2lpWrVqoU33njD4DZpevz4sawa7fjx41/6WZaKQaUcePLkiShtbWtr+9Ldj0RUvrm4uKB69ep49OgRnj9/jkWLFuHx48ewtbVFp06ddO6TYywlCSkAZKtoACApKcngH3IuLi4IDQ1FaGgo/vjjD6SmpiI1NRX37t1DnTp1ULduXTRs2PCVlxFLe25q1KihFa7KAwaVcuD27dviWNfMeSIiQ7Rv317sVlylShWMHDnSxC16edIhFQD49ddfX+o5tWvXRqdOndCpU6fSaJZMaGgomjdvLorTlUcMKhYgIyMDa9euRVxcHBo0aIAVK1YU2z0pJR0bZVAholchDSol6YEwNxs3btT6x//ixYsoLCxE5cqVTdQqZeW9jhUr0xogKSkJ8+fPx5gxY/Dee+/h5MmTRvvs/fv3Y+zYsdiwYQPS0tIQHx+Pf/3rXyV6hrRHpUmTJqXdRCIqR6T1VKQb5FmaHTt2ACiaoFuzZk1x/WV7VajssEelGMePH8eMGTOQnZ0trh08eBCjRo2S7S9RnD179uDs2bPIycnBwIED4e/vX+x7EhISMH36dLFaR+3IkSOG/wFQNOlNrVIl/r+ciF6eNQSVAwcOiAmqo0aNQnJyMn755RcAwLlz59C9e3dTNo80sEdFj/Pnz2PixImykKK2detWfP/99wY9Jzw8HKGhodi0aZMoGmRIsZ758+eLkDJz5kyxjj47OxuJiYkG/zmkW6Hfu3fP4PcREWlq2rSp6IH466+/9K54MVe7d+8Wx/3794e3t7c4Z4+K+WFQ0WPDhg3i2MnJCatXr8bu3btRrVo1AMCXX36J5OTkYp+htEOoUpVDqaioKCQlJQEoKhQ0ZcoUSGvzHTt2zOA/h3Qm/oMHDwx+HxGREkvuVUlOTsbevXsBAD169ICHh4ds2fW5c+dM1TTSgUFFh7i4OLFVuK2tLZYuXQofHx+0bdtWzHLPz8/Xu/twZmambGnZW2+9hc2bN4vzmJgYhIeHK75XXVQpKChILCfOysoSr9euXdvgP0uTJk3EErmTJ0/K2qApKSkJe/bswTfffIPw8HCEh4fr3P2UiMonaVBR/6CyFNLelAEDBgAA3N3dxVYABQUFuHLliknaRso4YUEHdeIGgEWLFsHDw0OcBwQEiN6WY8eO6Sy3vGrVKmRmZorzDz74AE2aNEH//v0RGxsLAIiIiIBKpUK3bt3EfSdPnsSFCxcAAKNHjxbXpUNQderUKdGfZ/To0ZgzZw4A4NNPP8WhQ4dEEaK7d+8iKSlJ5xfOxo0bMXPmTIwYMaJEn0lE1klaG0RajMwSHDx4EEBRITZ1UAGKSvKrf5ympKSgbdu2JmkfaWOPig7q/SRq164t+x8zUJS+bWxsABTNY1HajTgzMxM//vijOJ8wYYJYcTNx4kTZvd99953sXN1L079/f9kXgnpDKgAlWp4MFPXMTJkyRZzHxcUhIiICERERsmEmJX/88QdmzJiht7Q0EZUfljr0k5iYKPbeGTBggKwUvXT451XK3VPpY4+KgitXriAjIwMAdM7+rlevnvgfc0JCAtzd3WWvx8bGoqCgQJwPHToUQNHEWs05K4cOHcLhw4fh4+ODR48eiaDSrl072X13794Vx66uriX+c82cOROenp64c+cOMjMzZbsl16hRQ1RSrFKlChISEpCYmIiVK1eisLAQAPDLL79gwYIFmDt3bok/m4isR+PGjVGnTh3k5OTg2bNnSE5ORps2bUzdrGJJd1vu37+/7DXpvkTSkg5kelYZVNTzPtT/o7Szs0OPHj0watQoVK1atdj3S//HrGuPBmlQUVqBox7aAQA/Pz906NBB69lSUVFR8PHxwbFjx8QQj7TKYVJSklix4+DgAAcHh2L/HEp69uxp0H1eXl7w8vKCt7c3Vq5cKbpLIyMj0b59e4st8kREpaN9+/aIi4sDUNSrYgkh2ttvAAAR80lEQVRBRf091qFDB3h5eclea9mypThmj4p5saqhn4yMDEyfPl0MacTHxyM+Ph4HDhzA/PnzERAQgMuXLxf7HOkwSP369RXvke4pkZCQIHvtt99+w5kzZ8T5m2++KY51LeU7duwY8vPzZd2o0nkrW7ZsEcevundESbi7u2P58uWygPP111/LeneIqPyxtAm19+7dEz8qpcM8atJ5f3l5eUZrFxXPaoJKTEwMxo4di+3bt2u95ufnh5CQEAwcOBCZmZn466+/9D5LOuNbV1CpUaOGOJauxgHk6/DbtGmDQYMGiXPpcJBUYWEhEhISFKveJiUlISoqSpy3atVKb/tLW+XKlbF48WIxFHX79m1ZcCKi8kf6g8kS5qmoy/4D0Bqq1/Tnn3+WdXOoBKxi6EdfTZIdO3ZoDd/Ex8dDpVIp3v/8+XNcu3ZNnNvb2yveV716dZ3tkdY4kfamAEDNmjV1BqX4+HjFv/CaoeBl5qe8qgYNGiA4OFiscNq6dSsmT56s978HIrJe6uFswDKCirTXp7ghcAYV82LxPSrHjx/XGVJ69OihOMdEpVJh/vz5iu/RXD9fr149xfv0/QOtHgcFgL59+8pe01f/RD2BV0qzN6Vy5cqypdLGNHjwYDRs2BBA0VJpS/hyIqKy4eDgIH7IvXjxwuyHf9TfV23atCm2vENxve5kXBYdVO7fv49FixaJ8+nTp8te79Gjh8736iqT/OjRI3FcpUoVncuApUM/wP/Sempqqrjm5uYmm0kOQLb5labHjx/LznNycrR6U/z8/Ey6saB0S3ddE4OJqHyQzvVQ75VjrtTf0eofW/ro+54m47PooBIeHo6rV68CABYuXIhnz57JXtfX67Fw4cJin6+uVKgpJiYGy5Ytk10LCAhAUlKSLKj4+PgU+xlSmqEmJydH1psCAL6+viV6JhFRWenTp484LulmqcZ08+ZN8SPUzs5O8R5pQU0GFfNisUElPT0dO3fuBAD06tULQUFBsj1tAP1BpUOHDrJSykqU5qekp6dj3rx5ivdv2bJFFlQMNWfOHIwfPx7Tp0+X/SXSrPjYoEED9OvXr8TPL03S+TfSYklEVP706tVLHP/6669aO72bC2ldFF1BRV0NHGBQMTcWG1Sio6PFCpohQ4YAKNo4UKq4iZ4VK1bU+7pSrZK1a9ciJydH8f6oqCg8efJE5/Nu3rwphkukQ0r5+fki/Egn+Ur3CQKAfv36iQ0RTSE8PFxWhVe6fJqIyp8GDRrIJtWaa69Kfn6+ONYVVKRz7kw5vE7aLDaoSCeeqrsfmzdvLrunuKCiNE+lcePG4lhz6Of06dPYtGmTOPf29kZISIjsHumKocOHD8tek+7GLN1WXNrlKJ0oK6254u7ujrCwMN1/GD3U1XB/+umnl3p/Xl4eFixYIKuoGxISojVURUTlT+/evcWxuc5TkQYVzbmAatLvbmPWqqLiWezy5Js3bwIo6oFQz+C2tbWFg4OD+Ie/uJnbp06d0rrWpEkT2NjYoKCgAP/9739lr0VGRopjW1tbfPTRR3B0dMS2bdvE5oPSHoekpCSMGTMGKpUKx44dE68FBgbCxcVFbIAlLZ4m3QirVq1a6NKlC15//XV89NFHL70U+MaNG4iJiQFQ9N+brk0UlRw4cAARERGy1VAhISElegYRWS9pL7C00KU5kQYVXUuPf/vtN3EsrVJLpmexPSrquSCa9VCk81SUlvuqXblyRbbJn1SLFi0AyMc1v/jiC9my47lz58LDwwP169eXVWj8/fffMWzYMHEeHx+PiIgIWYBZvHixbGxX2qPi6ekpelVyc3Ph6emJf//733B2dtb5ZymOOqQA8t2YdcnIyMDq1asxbNgwTJ06VYQUGxsbzJkzhyGFiIQuXbqIMg63b9/GuXPnTNwibdK5M0pVZ0+fPi37vn+V71sqfRYZVO7evaszFUuHf+7cuaPzGdu2bdPalEpNXUn24MGDCA8Px4QJE7BmzRrxekhICEaMGCHONWu1vPbaawgJCRE7LKv5+/uLnTulE1E1y9FLi8Rt2LBB9mvgVekqYAcAR48exfTp0zFw4EAsWrRINpm3V69e2LhxI959991SawsRWb6KFSvKSkGYY6+KtMCb0oTfn3/+WRx7enrKpgCQ6VlkUNG3skYaVHT1qKSnp2P37t06g0pwcLDYEDAiIkI27qo07KHZq3Po0CFMnjwZP//8M7766iuEhIRg8+bNsiXN0qBy79492bjp4MGDRc/QjRs3sH79ep1/XrXc3Fydrzk6Oorj8PBwJCYmirL/J0+exNKlSzFs2DBMmjQJ27dvl5X5b9OmDUJCQrB+/fpiy04TUfnUtWtXcWyOQaVDhw54/fXXARQN+Z84cUK8lpOTI+t15oar5scig4o+0pU/ugLNzJkz8fTpU3h6eup8TnBwsGxlTrVq1XTOzfDw8JB1Febm5uLChQtwdHREQEAAQkNDtVbIVKpUSbaCR9qrUrduXcyZM0ecf/XVV1r1VNS+++47eHt7o1OnTrK/bFLDhw8XxxERERgxYgR69uwJZ2dnjBs3DitWrJD1ntSuXRtBQUFYu3Yt9uzZw6EeItJL2qNy7NgxpKWlmbA12qpUqSL7Dt6xY4c4jomJESs5u3btKhu6J/NgsZNp1Z4/f46cnBwxoVYaVFJSUlBYWIjKlSuLa2PGjEF8fDwmT56s97m+vr7YvHmzWBnUsWNH2URXTf369cPKlSvF+YULF/RWxgWKJuSqe1Kys7Nlbff19cWMGTPw5ZdfAiiqtfLgwQN06tQJ+fn5SExMxPHjx2W7QZ8+fRr+/v5anxMaGop27dph1apViuPHNWrUQMeOHeHu7g4PDw907NhRq/IuEZEuTk5O8Pb2RlxcHAAgLi4O48ePN3Gr5Dp06ICjR48CAHbu3ImJEyfi9u3bsrpYH3zwgYlaR/pYfFDJzs5Gly5d4OjoiHfffRdBQUGoVq2aCADJycno0KEDDh48iNmzZ+PBgwcADKvw2rp1a7Ru3dqgdgQEBODbb78VK4U0i7UpsbW1FT0pmvNUgKJenbZt22L16tX45Zdf8NVXX+l8VpcuXfQGI19fX/j6+iItLQ337t2DnZ2d+I/mXBoiopLq3bu3CCpHjx41u6ASGhqK+Ph4Uctq6NChstcnTZqkt5edTKfCixcvXpi6ESV1+vRpjB07VvG1du3a4cWLF2KlyrBhw5CcnCxK7QNFk1+lXX+lJSwsDNHR0QCKisWdPHlS7/2BgYFiNdDs2bMxadIknffu3r0bp06dwsmTJ/HgwQPUqVMHderUQdeuXTF27FitqrxERMaUlpYm2zZk27Ztsr2AzMGNGzcwbdo0WY0qAHj33Xdlw+1kXiy+R0WlUuHcuXNinx/pUAgAERzUXF1dsXjx4jJpS1BQkPi87OxsxMbG6pywCxT1qKgVt7LnzTfflK0GIiIyJ05OTpg4cSLWrVsHAFi9erVsONwcuLi4YPny5Vi2bBkOHz6M1q1bY8KECRg8eLCpm0Z6WORkWvWafaDoH/hDhw4hMDCw2Pf5+flh+fLlZVZRtXPnzrIJW/v27ZO9vnnzZnz00UeizLQ0qBARWbqwsDCxonH//v1aPxTNgYuLC8LDw3Hp0iVs27aNIcUCWGSPiouLCypWrIjnz5/j8uXLsLe3x+LFizFmzBjExcXJqsACRRNd+/XrZ5TZ3JMmTcLp06cBALGxseJ6Xl4elixZgry8PMTExOD8+fMMKkRkVapVq4alS5fi5s2baNasGby8vEzdJLICFhlUgKISx8nJyQCAxMREqFQquLu7w93dHX5+frJhkiVLlrx0+fmS8vHxQYsWLZCamoonT57g4cOHsLW1xeLFi0VFxJYtW8LW1pZBhYisjqenJyelUqmyyKEfQL4XQ0JCguy1Zs2ayZbXSnfFNIYPPvgA/v7+WLNmDWxtbXH69Gls2bJFvP7JJ58AAFfbEBERFcNig0qrVq3EsXSYBygKANJVMElJSUZrF1C00mjZsmViV2fpZoY+Pj6ymfFERESkm8UGFWmPinpOiJQhFWqN4fLly7LNDA3ZFJCIiIiKWGxQke6vk5+fjwsXLshelwaV9PR0o7VLk3TlT+fOnXX2pnC+ChERkTaLDSo2NjaysCLdZAqAbOjHVEHl+fPnsqDSr18/nffWrl3bGE0iIiKyKBYbVADIlr6dPXtW9lqLFi3E8Z07d0RBOGPat2+fGHaqUqUK/Pz8ZK9nZmaKYwYVIiIibRYdVDp16iSOExISxD47ALSKupmiV0U6d8bPz0+rzP3vv/8ujhlUiIiItFl8UHFwcABQNE9FurdO7dq10aRJE3FuiqCirvMCQLGUvjSoqHd/JiIiov+x6KDy2muvoUuXLuL83LlzstelPRhpaWlGaxcAFBQUIDExUbRDc9gHkAeVWrVqGa1tRERElsKigwoA2d46mvVUTLnyR7pbs5ubG6pUqSJ7PSkpCU+ePAFQNDGYq36IiIi0WVVQSUhIEGXqAfk8FWMHFWlokg5BqUlXKbVu3doobSIiIrI0Fh9UmjdvLibV5ufn49SpU+I1aVAx9tBPpUr/20bJ2dlZ63XpRFsGFSIiImUWH1QAea+KrqBi7B4Ve3t7cdy8eXOt16X7E0nn2RAREdH/WHVQcXBwQM2aNQEAhYWFsrolZU29GgkA6tWrJ3vtxIkTyM/PF+fdu3c3WruIiIgsiVUEFZVKhYYNGwIAbty4IeutkPZmGHP4p379+uJYM6j8+uuv4rhz586ye4mIiOh/rCKoVKxY0aDhn3v37hmtTdIelVu3bslek060lbabiIiI5KwiqAC6h3+ktVSys7ON1p7KlSuLSb4///yzuJ6bmyvr8ZFW1yUiIiI5qw0qKSkpACDmqADG7VEBIHZKjo2NFcXf4uLixPyUvn37yvYrIiIiIjmrCSqOjo6y3ZTVuxZLg4oxe1SAovknAJCSkoIRI0Zgw4YN2Lp1q3g9KCjIqO0hIiKyNFYTVADIgsr+/fsByIPK3bt3jdqezp07w9PTU5zPnz8f8fHxAIChQ4eKHhciIiJSZrVBJSkpCUeOHJGVrjd2UAGABQsWoFevXrJrISEhWLp0qdHbQkREZGkqvHjx4oWpG1GavL29kZGRAaBoaOWdd94ROxdXr14dFy9eNEm7pJVoudKHiIjIMFbVowLIe1ViY2NlNUwePXqER48emaJZ6Natm/gPERERGcbqgkrv3r3F8R9//IG4uDjZ66YY/iEiIqKXY3VBxd/fH66uruJcM6gYe+UPERERvTyrCyoAMHDgQHGsGVSMXUuFiIiIXp5VBpVBgwaJ49zcXNlr7FEhIiKyHFYZVFxcXODv76/42s2bN43cGiIiInpZVhlUAGDkyJGK15OSkozcEiIiInpZVhtUvLy88NZbb2ldZ1AhIiKyHFYbVADgiy++0DkEREREROavkqkbUNaWLVuGpk2bIjExEY0bN4ajo6Opm0REREQGsroS+kRERGQ9rHroh4iIiCwbgwoRERGZLQYVIiIiMlsMKkRERGS2GFSIiIjIbDGoEBERkdliUCEiIiKzxaBCREREZotBhYiIiMwWgwoRERGZLQYVIiIiMlsMKkRERGS2GFSIiIjIbDGoEBERkdliUCEiIiKzxaBCREREZotBhYiIiMwWgwoRERGZLQYVIiIiMlsMKkRERGS2GFSIiIjIbDGoEBERkdliUCEiIiKzxaBCREREZotBhYiIiMwWgwoRERGZLQYVIiIiMlsMKkRERGS2GFSIiIjIbDGoEBERkdliUCEiIiKzxaBCREREZotBhYiIiMwWgwoRERGZLQYVIiIiMlsMKkRERGS2GFSIiIjIbDGoEBERkdliUCEiIiKzxaBCREREZotBhYiIiMwWgwoRERGZLQYVIiIiMlsMKkRERGS2GFSIiIjIbDGoEBERkdliUCEiIiKzxaBCREREZotBhYiIiMwWgwoRERGZLQYVIiIiMlsMKkRERGS2GFSIiIjIbDGoEBERkdliUCEiIiKzxaBCREREZotBhYiIiMwWgwoRERGZLQYVIiIiMlsMKkRERGS2GFSIiIjIbDGoEBERkdliUCEiIiKzxaBCREREZotBhYiIiMwWgwoRERGZrf8P1HxKzj/PteQAAAAASUVORK5CYII=)\n",
        "\n",
        "Then, if we call `get_pages_depth()` at `page_1` with `depth = 2`, then it should retrieve the pages `page_1`, `page_2`, `page_4`, `page_3` and `page_6`. We won't care about the order in which these pages are retrieved.\n",
        "\n",
        "- Implement the function as a generator.\n",
        "\n",
        "- Remember that a page might contain a link to a parent page, so try to take that into account.\n",
        "\n",
        "- Consider any other edge cases that might happen, such as two pages leading to the same page. In that case, that page should only be retrieved once.\n",
        "\n",
        "- Maybe you can add a decorator to handle such cases?"
      ],
      "metadata": {
        "id": "E3553IODkdZ1"
      }
    },
    {
      "cell_type": "code",
      "source": [
        "def get_pages_depth(url: str, depth: int):\n",
        "    \"\"\"\n",
        "    Go as the dep as the given depth, through the links in the webpage at the given URL\n",
        "    and yield the html content of each of them,  \n",
        "\n",
        "    :param url: A string that is the URL of the webpage\n",
        "    :param depth: An integer that is the depth until which the function searches\n",
        "    \"\"\"\n",
        "\n",
        "    raise NotImplementedError()"
      ],
      "metadata": {
        "id": "agObtuQ0dYen"
      },
      "execution_count": null,
      "outputs": []
    },
    {
      "cell_type": "code",
      "source": [
        "pages = get_pages_depth(depth = 2, url = 'http://en.wikipedia.org')"
      ],
      "metadata": {
        "id": "6owNf7PmZVaK"
      },
      "execution_count": null,
      "outputs": []
    },
    {
      "cell_type": "code",
      "source": [
        "next(pages)"
      ],
      "metadata": {
        "id": "SiTydX5obp4Q"
      },
      "execution_count": null,
      "outputs": []
    },
    {
      "cell_type": "markdown",
      "source": [
        "## Task 4"
      ],
      "metadata": {
        "id": "z9oXx2RWtniT"
      }
    },
    {
      "cell_type": "markdown",
      "source": [
        "Create a class `ComputerScientist` that will contain information such as `name`, `gender`, `birthdate`, `major_achievements`, `alma_mater`, etc.\n",
        "\n",
        "- Implement the methods you consider appropriate.\n",
        "\n",
        "- Make unit tests to make sure the methods work alright.\n",
        "\n",
        "Write a script to go to this [list of computer scientists](https://en.wikipedia.org/wiki/List_of_computer_scientists) and fetch information about 100 random scientists from this list, and create a python `list` containing `ComputerScientist()` objects with the information retrieved from the given link."
      ],
      "metadata": {
        "id": "OOm4WJW1tp7V"
      }
    },
    {
      "cell_type": "code",
      "source": [],
      "metadata": {
        "id": "8qj_ycL03OXm"
      },
      "execution_count": null,
      "outputs": []
    },
    {
      "cell_type": "markdown",
      "source": [
        "# Task 5"
      ],
      "metadata": {
        "id": "E9_NoSnMvlS9"
      }
    },
    {
      "cell_type": "markdown",
      "source": [
        "Use the previously defined `ComputerScientist` class.\n",
        "\n",
        "Add a new attribute `wikipedia_link` without modifying the definition of the original class. Consider using `setattr()`.\n",
        "\n",
        "Write a function `fetch_scientist()` that will receive the name of a scientist, and will go to wikipedia and fetch the required scientist, and return a `ComputerScientist` object.\n",
        "\n",
        "- Remember checking edge cases, such as the scientist not existing.\n",
        "\n",
        "Add a decorator to cache the request, (i.e: store the answers, and if the scientist was already found before, to not execute the search again)."
      ],
      "metadata": {
        "id": "8UXnEooLvrYu"
      }
    },
    {
      "cell_type": "code",
      "source": [],
      "metadata": {
        "id": "bNxBD1ynb8YZ"
      },
      "execution_count": null,
      "outputs": []
    }
  ]
}